{
 "cells": [
  {
   "cell_type": "code",
   "execution_count": 1,
   "metadata": {
    "collapsed": false
   },
   "outputs": [],
   "source": [
    "# Always run this first\n",
    "# NOTE: Do not define new basic variables in this notebook;\n",
    "#       define them in Variables_Q.ipynb.  Use this notebook\n",
    "#       to define new expressions built from those variables.\n",
    "\n",
    "from __future__ import division # This needs to be here, even though it's in Variables_Q.ipynb\n",
    "import sys\n",
    "sys.path.insert(0, '..') # Look for modules in directory above this one\n",
    "execfile('../Utilities/ExecNotebook.ipy')\n",
    "try: execnotebook(VariablesNotebook)\n",
    "except: execnotebook('Variables_Q.ipynb')"
   ]
  },
  {
   "cell_type": "markdown",
   "metadata": {},
   "source": [
    "The following `PNCollection` objects will contain all the terms describing precession."
   ]
  },
  {
   "cell_type": "code",
   "execution_count": 2,
   "metadata": {
    "collapsed": false
   },
   "outputs": [],
   "source": [
    "Precession_ellHat  = PNCollection()\n",
    "Precession_chiVec1 = PNCollection()\n",
    "Precession_chiVec2 = PNCollection()"
   ]
  },
  {
   "cell_type": "markdown",
   "metadata": {},
   "source": [
    "# Precession of orbital angular velocity $\\vec{\\Omega}_{\\hat{\\ell}}$"
   ]
  },
  {
   "cell_type": "markdown",
   "metadata": {},
   "source": [
    "[Bohé et al. (2013)](http://arxiv.org/abs/1212.5520v2) say that the precession of the orbital angular velocity is along $\\hat{n}$, with magnitude (in their notation) $a_{\\ell}/r\\omega = \\gamma\\, a_{\\ell} / v^3$.\n",
    "\n",
    "*NOTE:* There is a 3pN gauge term in $\\gamma_{\\text{PN}}$ that I have simply dropped here.  It is $\\ln(r/r_0')$.\n",
    "\n",
    "The following two cells are Eqs. (4.3) and (4.4) of [Bohé et al. (2013)](http://arxiv.org/abs/1212.5520v2), respectively."
   ]
  },
  {
   "cell_type": "code",
   "execution_count": 3,
   "metadata": {
    "collapsed": false
   },
   "outputs": [],
   "source": [
    "Precession_ellHat.AddDerivedVariable('gamma_PN_coeff', v**2)\n",
    "\n",
    "Precession_ellHat.AddDerivedConstant('gamma_PN_0', 1)\n",
    "# gamma_PN_1 is 0\n",
    "Precession_ellHat.AddDerivedConstant('gamma_PN_2', -nu/3 + 1)\n",
    "Precession_ellHat.AddDerivedVariable('gamma_PN_3', (5*S_ell/3 + Sigma_ell*delta)/M**2)\n",
    "Precession_ellHat.AddDerivedConstant('gamma_PN_4', -65*nu/12 + 1)\n",
    "Precession_ellHat.AddDerivedVariable('gamma_PN_5',\n",
    "    ((frac(8,9)*nu + frac(10,3))*S_ell + 2*Sigma_ell*delta)/M**2)\n",
    "Precession_ellHat.AddDerivedConstant('gamma_PN_6',\n",
    "    nu**3/81 + 229*nu**2/36 - 41*pi**2*nu/192 - 2203*nu/2520 + 1)\n",
    "Precession_ellHat.AddDerivedVariable('gamma_PN_7',\n",
    "    ((-6*nu**2 - 127*nu/12 + 5)*S_ell - 8*Sigma_ell*delta*nu**2/3 + (-61*nu/6 + 3)*Sigma_ell*delta)/M**2)"
   ]
  },
  {
   "cell_type": "code",
   "execution_count": 4,
   "metadata": {
    "collapsed": false
   },
   "outputs": [],
   "source": [
    "Precession_ellHat.AddDerivedVariable('a_ell_coeff', v**7/M**3)\n",
    "\n",
    "Precession_ellHat.AddDerivedVariable('a_ell_0', 7*S_n + 3*Sigma_n*delta)\n",
    "# gamma_PN_1 is 0\n",
    "Precession_ellHat.AddDerivedVariable('a_ell_2', (-29*nu/3-10)*S_n + (-9*nu/2-6)*delta*Sigma_n)\n",
    "# gamma_PN_3 is 0\n",
    "Precession_ellHat.AddDerivedVariable('a_ell_4',\n",
    "    (frac(52,9)*nu**2 + frac(59,4)*nu + frac(3,2))*S_n\n",
    "     + (frac(17,6)*nu**2 + frac(73,8)*nu + frac(3,2))*delta*Sigma_n)"
   ]
  },
  {
   "cell_type": "code",
   "execution_count": 5,
   "metadata": {
    "collapsed": false
   },
   "outputs": [],
   "source": [
    "def Precession_ellHatExpression(PNOrder=frac(7,2)):\n",
    "    OmegaVec_ellHat = (gamma_PN_coeff.substitution*a_ell_coeff.substitution/v**3)\\\n",
    "        *horner(sum([key*(v**n) for n in range(2*PNOrder+1)\n",
    "                     for key,val in Precession_ellHat.items() if val==('gamma_PN_{0}'.format(n))]))\\\n",
    "        *horner(sum([key*(v**n) for n in range(2*PNOrder+1)\n",
    "                     for key,val in Precession_ellHat.items() if val==('a_ell_{0}'.format(n))]))\n",
    "    return OmegaVec_ellHat"
   ]
  },
  {
   "cell_type": "code",
   "execution_count": 6,
   "metadata": {
    "collapsed": false
   },
   "outputs": [
    {
     "data": {
      "image/png": "[encoded data removed]",
      "text/latex": [
       "$$\\frac{v^{6}}{M^{3}} \\left(a_{\\ell 0} + v^{2} \\left(a_{\\ell 2} + a_{\\ell 4} v^{2}\\right)\\right) \\left(\\gamma_{PN 0} + v^{2} \\left(\\gamma_{PN 2} + v \\left(\\gamma_{PN 3} + v \\left(\\gamma_{PN 4} + v \\left(\\gamma_{PN 5} + v \\left(\\gamma_{PN 6} + \\gamma_{PN 7} v\\right)\\right)\\right)\\right)\\right)\\right)$$"
      ],
      "text/plain": [
       " 6 ⎛           2 ⎛                   2⎞⎞ ⎛          2                         \n",
       "v ⋅⎝a_ell_0 + v ⋅⎝a_ell_2 + a_ell_4⋅v ⎠⎠⋅⎝γ_PN_0 + v ⋅(γ_PN_2 + v⋅(γ_PN_3 + v⋅\n",
       "──────────────────────────────────────────────────────────────────────────────\n",
       "                                                               3              \n",
       "                                                              m               \n",
       "\n",
       "                                               ⎞\n",
       "(γ_PN_4 + v⋅(γ_PN_5 + v⋅(γ_PN_6 + γ_PN_7⋅v)))))⎠\n",
       "────────────────────────────────────────────────\n",
       "                                                \n",
       "                                                "
      ]
     },
     "execution_count": 6,
     "metadata": {},
     "output_type": "execute_result"
    }
   ],
   "source": [
    "# Precession_ellHatExpression()"
   ]
  },
  {
   "cell_type": "markdown",
   "metadata": {},
   "source": [
    "# Precession of spins $\\vec{\\Omega}_{1,2}$"
   ]
  },
  {
   "cell_type": "markdown",
   "metadata": {},
   "source": [
    "Equation (4.5) of [Bohé et al. (2013)](http://arxiv.org/abs/1212.5520v2) gives spin-orbit terms:"
   ]
  },
  {
   "cell_type": "code",
   "execution_count": 7,
   "metadata": {
    "collapsed": false
   },
   "outputs": [],
   "source": [
    "Precession_chiVec1.AddDerivedVariable('Omega1_coeff', v**5/M)\n",
    "\n",
    "Precession_chiVec1.AddDerivedVariable('OmegaVec1_SO_0',\n",
    "    (frac(3,4) + frac(1,2)*nu - frac(3,4)*delta)*ellHat, datatype=ellHat.datatype)\n",
    "Precession_chiVec1.AddDerivedVariable('OmegaVec1_SO_2',\n",
    "    (frac(9,16) + frac(5,4)*nu - frac(1,24)*nu**2 + delta*(-frac(9,16)+frac(5,8)*nu))*ellHat, datatype=ellHat.datatype)\n",
    "Precession_chiVec1.AddDerivedVariable('OmegaVec1_SO_4',\n",
    "    (frac(27,32) + frac(3,16)*nu - frac(105,32)*nu**2 - frac(1,48)*nu**3\n",
    "     + delta*(-frac(27,32) + frac(39,8)*nu - frac(5,32)*nu**2))*ellHat, datatype=ellHat.datatype)"
   ]
  },
  {
   "cell_type": "markdown",
   "metadata": {},
   "source": [
    "In his Eqs. (2.4), [Kidder (1995)](http://link.aps.org/doi/10.1103/PhysRevD.52.821) summarized certain spin-spin terms:"
   ]
  },
  {
   "cell_type": "code",
   "execution_count": 8,
   "metadata": {
    "collapsed": false
   },
   "outputs": [],
   "source": [
    "Precession_chiVec1.AddDerivedVariable('OmegaVec1_SS_1', M2**2*(-chiVec2+3*chi2_n*nHat)/M**2, datatype=nHat.datatype)\n",
    "#print(\"WARNING: OmegaVec1_SS_1 in Precession.ipynb is disabled temporarily\")"
   ]
  },
  {
   "cell_type": "markdown",
   "metadata": {},
   "source": [
    "***NOTE: Is Etienne's notation consistent with others? ***  It seems like when he introduces other people's terms, he mixes $\\hat{n}$ and $\\hat{\\ell}$.\n",
    "\n",
    "Finally, in his Eq. (2.7) [Racine (2008)](http://link.aps.org/doi/10.1103/PhysRevD.78.044021) added a quadrupole-monopole term along $\\hat{n}$:"
   ]
  },
  {
   "cell_type": "code",
   "execution_count": 9,
   "metadata": {
    "collapsed": false
   },
   "outputs": [],
   "source": [
    "Precession_chiVec1.AddDerivedVariable('OmegaVec1_QM_1', 3*nu*chi1_n*nHat, datatype=nHat.datatype)\n",
    "#print(\"WARNING: OmegaVec1_QM_1 in Precession.ipynb is disabled temporarily\")"
   ]
  },
  {
   "cell_type": "markdown",
   "metadata": {},
   "source": [
    "For the precession vector of the other spin, rather than re-entering the same things with 1 and 2 swapped, we just let python do it:"
   ]
  },
  {
   "cell_type": "code",
   "execution_count": 10,
   "metadata": {
    "collapsed": false
   },
   "outputs": [],
   "source": [
    "for key,val in Precession_chiVec1.items():\n",
    "    try:\n",
    "        tmp = key.substitution.subs({delta: -delta, M1:'swap1', M2:M1, chi1_n:'swap2', chi2_n:chi1_n,\n",
    "                                     chiVec1:'swap3', chiVec2:chiVec1}).subs({'swap1':M2,'swap2':chi2_n,'swap3':chiVec2})\n",
    "        Precession_chiVec2.AddDerivedVariable(val.replace('OmegaVec1', 'OmegaVec2').replace('Omega1', 'Omega2'),\n",
    "                                              tmp, datatype=key.datatype)\n",
    "    except AttributeError:\n",
    "        Precession_chiVec2.AddDerivedVariable(val.replace('OmegaVec1', 'OmegaVec2').replace('Omega1', 'Omega2'),\n",
    "                                              key, datatype=key.datatype)"
   ]
  },
  {
   "cell_type": "markdown",
   "metadata": {},
   "source": [
    "Finally, we define functions to put them together:"
   ]
  },
  {
   "cell_type": "code",
   "execution_count": 11,
   "metadata": {
    "collapsed": false
   },
   "outputs": [],
   "source": [
    "def Precession_chiVec1Expression(PNOrder=frac(7,2)):\n",
    "    return Omega1_coeff*collect(expand(sum([key.substitution*(v**n)\n",
    "                                            for n in range(2*PNOrder+1)\n",
    "                                            for key,val in Precession_chiVec1.items()\n",
    "                                            if val.endswith('_{0}'.format(n))])),\n",
    "                                [ellHat,nHat,lambdaHat,chiVec1,chiVec2], horner)\n",
    "def Precession_chiVec2Expression(PNOrder=frac(7,2)):\n",
    "    return Omega2_coeff*collect(expand(sum([key.substitution*(v**n)\n",
    "                                            for n in range(2*PNOrder+1)\n",
    "                                            for key,val in Precession_chiVec2.items()\n",
    "                                            if val.endswith('_{0}'.format(n))])),\n",
    "                                [ellHat,nHat,lambdaHat,chiVec1,chiVec2], horner)"
   ]
  },
  {
   "cell_type": "code",
   "execution_count": 12,
   "metadata": {
    "collapsed": false
   },
   "outputs": [
    {
     "data": {
      "image/png": "[encoded data removed]",
      "text/latex": [
       "$$\\Omega_{1 coeff} \\left(- \\frac{\\vec{\\chi}_{2} M_{2}^{2}}{M^{2}} v + \\hat{\\ell} \\left(- \\frac{3 \\delta}{4} + \\frac{\\nu}{2} + v^{2} \\left(\\delta \\left(\\frac{5 \\nu}{8} - \\frac{9}{16}\\right) + \\nu \\left(- \\frac{\\nu}{24} + \\frac{5}{4}\\right) + v^{2} \\left(\\delta \\left(\\nu \\left(- \\frac{5 \\nu}{32} + \\frac{39}{8}\\right) - \\frac{27}{32}\\right) + \\nu \\left(\\nu \\left(- \\frac{\\nu}{48} - \\frac{105}{32}\\right) + \\frac{3}{16}\\right) + \\frac{27}{32}\\right) + \\frac{9}{16}\\right) + \\frac{3}{4}\\right) + \\hat{n} v \\left(3 \\chi_{1 n} \\nu + \\frac{3 M_{2}^{2}}{M^{2}} \\chi_{2 n}\\right)\\right)$$"
      ],
      "text/plain": [
       "          ⎛        2                                                          \n",
       "          ⎜  χ⃗₂⋅m₂ ⋅v        ⎛  3⋅δ   ν    2 ⎛  ⎛5⋅ν   9 ⎞     ⎛  ν    5⎞    \n",
       "Ω_1_coeff⋅⎜- ───────── + ell̂⋅⎜- ─── + ─ + v ⋅⎜δ⋅⎜─── - ──⎟ + ν⋅⎜- ── + ─⎟ + v\n",
       "          ⎜       2           ⎝   4    2      ⎝  ⎝ 8    16⎠     ⎝  24   4⎠    \n",
       "          ⎝      m                                                            \n",
       "\n",
       "                                                                             ⎛\n",
       "2 ⎛  ⎛  ⎛  5⋅ν   39⎞   27⎞     ⎛  ⎛  ν    105⎞   3 ⎞   27⎞   9 ⎞   3⎞        ⎜\n",
       " ⋅⎜δ⋅⎜ν⋅⎜- ─── + ──⎟ - ──⎟ + ν⋅⎜ν⋅⎜- ── - ───⎟ + ──⎟ + ──⎟ + ──⎟ + ─⎟ + n̂⋅v⋅⎜\n",
       "  ⎝  ⎝  ⎝   32   8 ⎠   32⎠     ⎝  ⎝  48    32⎠   16⎠   32⎠   16⎠   4⎠        ⎜\n",
       "                                                                             ⎝\n",
       "\n",
       "                      2⎞⎞\n",
       "            3⋅χ_2_n⋅m₂ ⎟⎟\n",
       "3⋅χ_1_n⋅ν + ───────────⎟⎟\n",
       "                  2    ⎟⎟\n",
       "                 m     ⎠⎠"
      ]
     },
     "execution_count": 12,
     "metadata": {},
     "output_type": "execute_result"
    }
   ],
   "source": [
    "# Precession_chiVec1Expression()"
   ]
  }
 ],
 "metadata": {
  "kernelspec": {
   "display_name": "Python 3",
   "language": "python",
   "name": "python3"
  },
  "language_info": {
   "codemirror_mode": {
    "name": "ipython",
    "version": 3
   },
   "file_extension": ".py",
   "mimetype": "text/x-python",
   "name": "python",
   "nbconvert_exporter": "python",
   "pygments_lexer": "ipython3",
   "version": "3.4.3"
  }
 },
 "nbformat": 4,
 "nbformat_minor": 0
}
