{
 "cells": [
  {
   "cell_type": "markdown",
   "metadata": {},
   "source": [
    "***NOTE:***  The expressions in this notebook are not yet validated.  I have no reason to believe they are wrong, but I can't make any guarantees.  All other notebooks in this directory have been validated, however, and at least agree with all results I know of in the literature."
   ]
  },
  {
   "cell_type": "code",
   "execution_count": 1,
   "metadata": {},
   "outputs": [
    {
     "name": "stderr",
     "output_type": "stream",
     "text": [
      "/home/dongze/.local/lib/python3.8/site-packages/IPython/nbformat.py:12: ShimWarning: The `IPython.nbformat` package has been deprecated since IPython 4.0. You should import from nbformat instead.\n",
      "  warn(\"The `IPython.nbformat` package has been deprecated since IPython 4.0. \"\n",
      "/home/dongze/.local/lib/python3.8/site-packages/nbformat/current.py:15: UserWarning: nbformat.current is deprecated.\n",
      "\n",
      "- use nbformat for read/write/validate public API\n",
      "- use nbformat.vX directly to composing notebooks of a particular version\n",
      "\n",
      "  warnings.warn(\"\"\"nbformat.current is deprecated.\n"
     ]
    }
   ],
   "source": [
    "# Always run this first\n",
    "# NOTE: Do not define new basic variables in this notebook;\n",
    "#       define them in Variables_Q.ipynb.  Use this notebook\n",
    "#       to define new expressions built from those variables.\n",
    "\n",
    "from __future__ import division # This needs to be here, even though it's in Variables_Q.ipynb\n",
    "import sys\n",
    "sys.path.insert(0, '..') # Look for modules in directory above this one\n",
    "execfile('../Utilities/ExecNotebook.ipy')\n",
    "try: execnotebook(VariablesNotebook)\n",
    "except: execnotebook('Variables_Q.ipynb')"
   ]
  },
  {
   "cell_type": "markdown",
   "metadata": {},
   "source": [
    "The following `PNCollection` objects will contain all the terms in the different parts of the waveform modes."
   ]
  },
  {
   "cell_type": "code",
   "execution_count": 2,
   "metadata": {},
   "outputs": [],
   "source": [
    "WaveformModes_NoSpin = PNCollection()\n",
    "WaveformModes_Spin_Symm = PNCollection()\n",
    "WaveformModes_Spin_Asymm = PNCollection()"
   ]
  },
  {
   "cell_type": "markdown",
   "metadata": {},
   "source": [
    "# Individual terms"
   ]
  },
  {
   "cell_type": "markdown",
   "metadata": {},
   "source": [
    "In this notebook, every term will be multiplied by the following coefficient."
   ]
  },
  {
   "cell_type": "code",
   "execution_count": 3,
   "metadata": {},
   "outputs": [],
   "source": [
    "WaveformModes_NoSpin.AddDerivedVariable('rhOverM_coeff', -(2*nu*v**2)*sqrt(16*pi/5), datatype='std::complex<double>')"
   ]
  },
  {
   "cell_type": "markdown",
   "metadata": {},
   "source": [
    "Note that fractions need to be entered as, e.g., `frac(3,4)` so that they are not converted to finite-precision decimals."
   ]
  },
  {
   "cell_type": "markdown",
   "metadata": {},
   "source": [
    "The following expressions are taken from Eqs. (9.3) and (9.4) of [Blanchet et al. (2008)](http://arxiv.org/abs/0802.1249v3), except the final term in the $(2,2)$ expression, which is taken from Eq. (6.5) of [Faye et al. (2012)](http://arxiv.org/abs/1204.1043v2), and the final terms in the $(3,3)$ and $(3,1)$ expressions, which are taken from Eqs. (4.18) of [Faye et al. (2014)](http://arxiv.org/abs/1409.3546v1)."
   ]
  },
  {
   "cell_type": "code",
   "execution_count": 4,
   "metadata": {},
   "outputs": [],
   "source": [
    "# ell=2\n",
    "WaveformModes_NoSpin.AddDerivedConstant('hHat_2_1_1', (I/3)*delta, datatype='std::complex<double>')\n",
    "WaveformModes_NoSpin.AddDerivedConstant('hHat_2_1_3', (I/84)*delta*(-17 + 20*nu), datatype='std::complex<double>')\n",
    "WaveformModes_NoSpin.AddDerivedConstant('hHat_2_1_4', (delta*(1 + (2*I)*pi + log(16)))/6, datatype='std::complex<double>')\n",
    "WaveformModes_NoSpin.AddDerivedConstant('hHat_2_1_5', (I/1512)*delta*(-172 + nu*(-2036 + 237*nu)), datatype='std::complex<double>')\n",
    "WaveformModes_NoSpin.AddDerivedConstant('hHat_2_1_6', (delta*((-34*I)*pi - 17*(1 + log(16)) + 2*nu*(353 + (6*I)*pi + log(4096))))/168, datatype='std::complex<double>')\n",
    "WaveformModes_NoSpin.AddDerivedConstant('hHat_2_2_0', 1, datatype='std::complex<double>')\n",
    "WaveformModes_NoSpin.AddDerivedConstant('hHat_2_2_2', (-107 + 55*nu)/42, datatype='std::complex<double>')\n",
    "WaveformModes_NoSpin.AddDerivedConstant('hHat_2_2_3', 2*pi, datatype='std::complex<double>')\n",
    "WaveformModes_NoSpin.AddDerivedConstant('hHat_2_2_4', (-2173 + nu*(-7483 + 2047*nu))/1512, datatype='std::complex<double>')\n",
    "WaveformModes_NoSpin.AddDerivedConstant('hHat_2_2_5', (-24*I)*nu + ((-107 + 34*nu)*pi)/21, datatype='std::complex<double>')\n",
    "WaveformModes_NoSpin.AddDerivedConstant('hHat_2_2_6', frac(27027409,646800) - (856*EulerGamma)/105 + (nu*(-834555 + nu*(-729396 + 114635*nu)))/99792 + (41*nu*pi**2)/96 + (2*pi*(214*I + 35*pi))/105 - (428*log(16))/105, datatype='std::complex<double>')\n",
    "WaveformModes_NoSpin.AddDerivedConstant('hHat_2_2_lnv_6', -frac(856,105), datatype='std::complex<double>')\n",
    "WaveformModes_NoSpin.AddDerivedConstant('hHat_2_2_7', ((-2*I)*nu*(-501655 + 24396*nu) + 15*(-2173 + 2*nu*(-2459 + 560*nu))*pi)/11340, datatype='std::complex<double>')\n",
    "# ell=3\n",
    "WaveformModes_NoSpin.AddDerivedConstant('hHat_3_0_5', ((-2*I)/5)*sqrt(frac(6,7))*nu, datatype='std::complex<double>')\n",
    "WaveformModes_NoSpin.AddDerivedConstant('hHat_3_1_1', ((I/12)*delta)/sqrt(14), datatype='std::complex<double>')\n",
    "WaveformModes_NoSpin.AddDerivedConstant('hHat_3_1_3', ((-I/18)*delta*(4 + nu))/sqrt(14), datatype='std::complex<double>')\n",
    "WaveformModes_NoSpin.AddDerivedConstant('hHat_3_1_4', (delta*(7 + (5*I)*pi + log(1024)))/(60*sqrt(14)), datatype='std::complex<double>')\n",
    "WaveformModes_NoSpin.AddDerivedConstant('hHat_3_1_5', ((-I/2376)*delta*(-607 + nu*(272 + 247*nu)))/sqrt(14), datatype='std::complex<double>')\n",
    "#supermomentum_add_on_term\n",
    "WaveformModes_NoSpin.AddDerivedConstant('hHat_3_1_6', (delta*((-5*I)*(16 + 7*nu)*pi + 2*(-56 + nu - 5*(16 + 7*nu)*log(2))))/(360*sqrt(14)) + (-sqrt(5/pi)/(8*nu)*(2/(sqrt(30)))*(484/15*sqrt(pi/21)*delta*nu**2)), datatype='std::complex<double>')\n",
    "WaveformModes_NoSpin.AddDerivedConstant('hHat_3_1_lnv_7', (I*delta/(12*sqrt(14))) * (-frac(13,21)*2), datatype='std::complex<double>')\n",
    "WaveformModes_NoSpin.AddDerivedConstant('hHat_3_1_7', (I*delta/(12*sqrt(14))) * (frac(10753397,1513512) - 2*log(2)*(frac(212,105) + log(2)) - frac(26,21) * EulerGamma + (pi**2/6) - 2*I*pi*(frac(41,105) + log(2)) + (nu/8)*(-frac(1738843,19305) + frac(41,8)*pi**2) + frac(327059,30888)*nu**2 - frac(17525,15444)*nu**3), datatype='std::complex<double>')\n",
    "WaveformModes_NoSpin.AddDerivedConstant('hHat_3_2_2', (sqrt(frac(5,7))*(1 - 3*nu))/3, datatype='std::complex<double>')\n",
    "WaveformModes_NoSpin.AddDerivedConstant('hHat_3_2_4', (-193 + 5*(145 - 73*nu)*nu)/(54*sqrt(35)), datatype='std::complex<double>')\n",
    "WaveformModes_NoSpin.AddDerivedConstant('hHat_3_2_5', (-15*I + (66*I)*nu + 10*pi - 30*nu*pi)/(3*sqrt(35)), datatype='std::complex<double>')\n",
    "WaveformModes_NoSpin.AddDerivedConstant('hHat_3_2_6', (-1451 + nu*(-17387 + 3*(33342 - 5341*nu)*nu))/(2376*sqrt(35)), datatype='std::complex<double>')\n",
    "WaveformModes_NoSpin.AddDerivedConstant('hHat_3_3_1', ((-3*I)/4)*sqrt(frac(15,14))*delta, datatype='std::complex<double>')\n",
    "WaveformModes_NoSpin.AddDerivedConstant('hHat_3_3_3', ((-3*I)/2)*sqrt(frac(15,14))*delta*(-2 + nu), datatype='std::complex<double>')\n",
    "WaveformModes_NoSpin.AddDerivedConstant('hHat_3_3_4', (9*sqrt(frac(3,70))*delta*(-7 - (5*I)*pi + 10*log(frac(3,2))))/4, datatype='std::complex<double>')\n",
    "WaveformModes_NoSpin.AddDerivedConstant('hHat_3_3_5', (-I/88)*sqrt(frac(3,70))*delta*(369 + nu*(-3676 + 887*nu)), datatype='std::complex<double>')\n",
    "#supermomentum_add_on_term\n",
    "WaveformModes_NoSpin.AddDerivedConstant('hHat_3_3_6', (delta*((-3645*I)*(-8 + 3*nu)*pi + 2*(20412 - 48103*nu + 3645*(-8 + 3*nu)*log(frac(3,2)))))/(216*sqrt(210)) + (-sqrt(5/pi)/(8*nu)*(2/(sqrt(30)))*(-44/27*sqrt(pi/35)*delta*nu**2)), datatype='std::complex<double>')\n",
    "WaveformModes_NoSpin.AddDerivedConstant('hHat_3_3_lnv_7', ((-3*I)/4)*sqrt(frac(15,14))*delta * (-frac(39,7)*2*log(4)), datatype='std::complex<double>')\n",
    "WaveformModes_NoSpin.AddDerivedConstant('hHat_3_3_7', ((-3*I)/4)*sqrt(frac(15,14))*delta * (frac(19388147,280280) + frac(492,35)*ln(frac(3,2)) - 18*(ln(frac(3,2)))**2 - frac(78,7)*EulerGamma + frac(3,2)*pi**2 + 6*I*pi*(-frac(41,35) + 3*log(frac(3,2)) ) + (nu/8)*(-frac(7055,429) + frac(41,8)*pi**2) - frac(318841,17160)*nu**2 + frac(8237,2860)*nu**3 ), datatype='std::complex<double>')\n",
    "# ell=4\n",
    "WaveformModes_NoSpin.AddDerivedConstant('hHat_4_1_3', ((I/84)*delta*(1 - 2*nu))/sqrt(10), datatype='std::complex<double>')\n",
    "WaveformModes_NoSpin.AddDerivedConstant('hHat_4_1_5', ((-I/11088)*delta*(404 + nu*(-1011 + 332*nu)))/sqrt(10), datatype='std::complex<double>')\n",
    "WaveformModes_NoSpin.AddDerivedConstant('hHat_4_1_6', (delta*(64 - 1661*nu - (30*I)*(-1 + 2*nu)*pi + 60*(1 - 2*nu)*log(2)))/(2520*sqrt(10)), datatype='std::complex<double>')\n",
    "WaveformModes_NoSpin.AddDerivedConstant('hHat_4_2_2', (sqrt(5)*(1 - 3*nu))/63, datatype='std::complex<double>')\n",
    "WaveformModes_NoSpin.AddDerivedConstant('hHat_4_2_4', (-1311 + 5*(805 - 57*nu)*nu)/(4158*sqrt(5)), datatype='std::complex<double>')\n",
    "WaveformModes_NoSpin.AddDerivedConstant('hHat_4_2_5', (-21*I + nu*(84*I - 30*pi) + 10*pi)/(63*sqrt(5)), datatype='std::complex<double>')\n",
    "WaveformModes_NoSpin.AddDerivedConstant('hHat_4_2_6', (9342351 + 7*nu*(-5460759 + 115*nu*(34822 + 3363*nu)))/(22702680*sqrt(5)), datatype='std::complex<double>')\n",
    "WaveformModes_NoSpin.AddDerivedConstant('hHat_4_3_3', (((9*I)/4)*delta*(-1 + 2*nu))/sqrt(70), datatype='std::complex<double>')\n",
    "WaveformModes_NoSpin.AddDerivedConstant('hHat_4_3_5', (((3*I)/176)*delta*(468 + nu*(-1267 + 524*nu)))/sqrt(70), datatype='std::complex<double>')\n",
    "WaveformModes_NoSpin.AddDerivedConstant('hHat_4_3_6', (delta*(-5184 + 16301*nu + (2430*I)*(-1 + 2*nu)*pi + 4860*(1 - 2*nu)*log(frac(3,2))))/(360*sqrt(70)), datatype='std::complex<double>')\n",
    "WaveformModes_NoSpin.AddDerivedConstant('hHat_4_4_2', (8*sqrt(frac(5,7))*(-1 + 3*nu))/9, datatype='std::complex<double>')\n",
    "WaveformModes_NoSpin.AddDerivedConstant('hHat_4_4_4', (4*(1779 + 5*nu*(-1273 + 525*nu)))/(297*sqrt(35)), datatype='std::complex<double>')\n",
    "#supermomentum_add_on_term\n",
    "WaveformModes_NoSpin.AddDerivedConstant('hHat_4_4_5', (160*(-1 + 3*nu)*pi + I*(336 - 1193*nu + 320*(-1 + 3*nu)*log(2)))/(9*sqrt(35)) + (-sqrt(5/pi)/(8*nu)*(2/(3*sqrt(10)))*(-4/3*I*sqrt(2*pi/35)*nu**2)), datatype='std::complex<double>')\n",
    "WaveformModes_NoSpin.AddDerivedConstant('hHat_4_4_6', (-9618039 + 7*nu*(9793071 + 5*nu*(-3231338 + 678291*nu)))/(405405*sqrt(35)), datatype='std::complex<double>')\n",
    "# ell=5\n",
    "WaveformModes_NoSpin.AddDerivedConstant('hHat_5_1_3', ((I/288)*delta*(1 - 2*nu))/sqrt(385), datatype='std::complex<double>')\n",
    "WaveformModes_NoSpin.AddDerivedConstant('hHat_5_1_5', ((-I/11232)*delta*(179 + 4*(-88 + nu)*nu))/sqrt(385), datatype='std::complex<double>')\n",
    "#supermomentum_add_on_term\n",
    "WaveformModes_NoSpin.AddDerivedConstant('hHat_5_1_6', (delta*(181 - (70*I)*(-1 + 2*nu)*pi + 140*log(2) - 28*nu*(313 + log(1024))))/(20160*sqrt(385)) + (-sqrt(5/pi)/(8*nu)*(2/(sqrt(210)))*(52/21*sqrt(2*pi/165)*delta*nu**2)), datatype='std::complex<double>')\n",
    "WaveformModes_NoSpin.AddDerivedConstant('hHat_5_2_4', (2*(1 + 5*(-1 + nu)*nu))/(27*sqrt(55)), datatype='std::complex<double>')\n",
    "WaveformModes_NoSpin.AddDerivedConstant('hHat_5_2_6', (-3911 + 7*nu*(3079 + 35*nu*(-118 + 33*nu)))/(12285*sqrt(55)), datatype='std::complex<double>')\n",
    "WaveformModes_NoSpin.AddDerivedConstant('hHat_5_3_3', ((9*I)/32)*sqrt(frac(3,110))*delta*(-1 + 2*nu), datatype='std::complex<double>')\n",
    "WaveformModes_NoSpin.AddDerivedConstant('hHat_5_3_5', ((3*I)/416)*sqrt(frac(3,110))*delta*(207 + 8*nu*(-58 + 11*nu)), datatype='std::complex<double>')\n",
    "#supermomentum_add_on_term\n",
    "WaveformModes_NoSpin.AddDerivedConstant('hHat_5_3_6', (delta*(-395847 + 1171828*nu + (153090*I)*(-1 + 2*nu)*pi - 306180*(-1 + 2*nu)*log(frac(3,2))))/(60480*sqrt(330)) + (-sqrt(5/pi)/(8*nu)*(2/(sqrt(210)))*(4/27*sqrt(pi/385)*delta*nu**2)), datatype='std::complex<double>')\n",
    "WaveformModes_NoSpin.AddDerivedConstant('hHat_5_4_4', (-32*(1 + 5*(-1 + nu)*nu))/(9*sqrt(165)), datatype='std::complex<double>')\n",
    "WaveformModes_NoSpin.AddDerivedConstant('hHat_5_4_6', (16*(4451 - 7*nu*(3619 + 5*nu*(-1042 + 339*nu))))/(4095*sqrt(165)), datatype='std::complex<double>')\n",
    "WaveformModes_NoSpin.AddDerivedConstant('hHat_5_5_3', (((-625*I)/96)*delta*(-1 + 2*nu))/sqrt(66), datatype='std::complex<double>')\n",
    "WaveformModes_NoSpin.AddDerivedConstant('hHat_5_5_5', (((-625*I)/3744)*delta*(263 + 16*nu*(-43 + 16*nu)))/sqrt(66), datatype='std::complex<double>')\n",
    "#supermomentum_add_on_term\n",
    "WaveformModes_NoSpin.AddDerivedConstant('hHat_5_5_6', (delta*(565625 - 1481676*nu - (218750*I)*(-1 + 2*nu)*pi + 437500*(-1 + 2*nu)*log(frac(5,2))))/(6720*sqrt(66)) + (-sqrt(5/pi)/(8*nu)*(2/(sqrt(210)))*(-36/5*sqrt(pi/77)*delta*nu**2)), datatype='std::complex<double>')\n",
    "# ell=6\n",
    "WaveformModes_NoSpin.AddDerivedConstant('hHat_6_1_5', ((I/8316)*delta*(-1 + nu)*(-1 + 3*nu))/sqrt(26), datatype='std::complex<double>')\n",
    "WaveformModes_NoSpin.AddDerivedConstant('hHat_6_2_4', (2*(1 + 5*(-1 + nu)*nu))/(297*sqrt(65)), datatype='std::complex<double>')\n",
    "WaveformModes_NoSpin.AddDerivedConstant('hHat_6_2_6', (-81 + 7*nu*(59 + nu*(-64 + 7*nu)))/(2079*sqrt(65)), datatype='std::complex<double>')\n",
    "WaveformModes_NoSpin.AddDerivedConstant('hHat_6_3_5', (((-81*I)/616)*delta*(-1 + nu)*(-1 + 3*nu))/sqrt(65), datatype='std::complex<double>')\n",
    "WaveformModes_NoSpin.AddDerivedConstant('hHat_6_4_4', (-128*sqrt(frac(2,39))*(1 + 5*(-1 + nu)*nu))/495, datatype='std::complex<double>')\n",
    "WaveformModes_NoSpin.AddDerivedConstant('hHat_6_4_6', (-64*sqrt(frac(2,39))*(-93 + 7*nu*(71 + nu*(-88 + 19*nu))))/3465, datatype='std::complex<double>')\n",
    "WaveformModes_NoSpin.AddDerivedConstant('hHat_6_5_5', (((3125*I)/504)*delta*(-1 + nu)*(-1 + 3*nu))/sqrt(429), datatype='std::complex<double>')\n",
    "WaveformModes_NoSpin.AddDerivedConstant('hHat_6_6_4', (54*(1 + 5*(-1 + nu)*nu))/(5*sqrt(143)), datatype='std::complex<double>')\n",
    "WaveformModes_NoSpin.AddDerivedConstant('hHat_6_6_6', (27*(-113 + 7*nu*(91 + nu*(-128 + 39*nu))))/(35*sqrt(143)), datatype='std::complex<double>')\n",
    "# ell=7\n",
    "WaveformModes_NoSpin.AddDerivedConstant('hHat_7_1_5', ((I/864864)*delta*(-1 + nu)*(-1 + 3*nu))/sqrt(2), datatype='std::complex<double>')\n",
    "WaveformModes_NoSpin.AddDerivedConstant('hHat_7_2_6', (1 - 7*(-1 + nu)**2*nu)/(3003*sqrt(3)), datatype='std::complex<double>')\n",
    "WaveformModes_NoSpin.AddDerivedConstant('hHat_7_3_5', ((-243*I)/160160)*sqrt(frac(3,2))*delta*(-1 + nu)*(-1 + 3*nu), datatype='std::complex<double>')\n",
    "WaveformModes_NoSpin.AddDerivedConstant('hHat_7_4_6', (128*sqrt(frac(2,33))*(-1 + 7*(-1 + nu)**2*nu))/1365, datatype='std::complex<double>')\n",
    "WaveformModes_NoSpin.AddDerivedConstant('hHat_7_5_5', (((15625*I)/26208)*delta*(-1 + nu)*(-1 + 3*nu))/sqrt(66), datatype='std::complex<double>')\n",
    "WaveformModes_NoSpin.AddDerivedConstant('hHat_7_6_6', (-81*sqrt(frac(3,143))*(-1 + 7*(-1 + nu)**2*nu))/35, datatype='std::complex<double>')\n",
    "WaveformModes_NoSpin.AddDerivedConstant('hHat_7_7_5', ((-16807*I)/1440)*sqrt(frac(7,858))*delta*(-1 + nu)*(-1 + 3*nu), datatype='std::complex<double>')\n",
    "# ell=8\n",
    "WaveformModes_NoSpin.AddDerivedConstant('hHat_8_2_6', (1 - 7*(-1 + nu)**2*nu)/(9009*sqrt(85)), datatype='std::complex<double>')\n",
    "WaveformModes_NoSpin.AddDerivedConstant('hHat_8_4_6', (128*sqrt(frac(2,187))*(-1 + 7*(-1 + nu)**2*nu))/4095, datatype='std::complex<double>')\n",
    "WaveformModes_NoSpin.AddDerivedConstant('hHat_8_6_6', (-243*sqrt(frac(3,17017))*(-1 + 7*(-1 + nu)**2*nu))/35, datatype='std::complex<double>')\n",
    "WaveformModes_NoSpin.AddDerivedConstant('hHat_8_8_6', (16384*sqrt(frac(2,85085))*(-1 + 7*(-1 + nu)**2*nu))/63, datatype='std::complex<double>')\n",
    "\n",
    "# from supermomentum (i.e., from Favata's paper)\n",
    "\n",
    "# ell=2\n",
    "WaveformModes_NoSpin.AddDerivedConstant('hHat_2_0_0', -(sqrt(5/6)/4)*(2*sqrt(5))/7, datatype='std::complex<double>')\n",
    "WaveformModes_NoSpin.AddDerivedConstant('hHat_2_0_2', -(sqrt(5/6)/4)*(-((4075*sqrt(5))/14112)+(67*(5)*nu)/168), datatype='std::complex<double>')\n",
    "WaveformModes_NoSpin.AddDerivedConstant('hHat_2_0_4', -(sqrt(5/6)/4)*(-((151877213*sqrt(5))/234710784)-(123815*sqrt(5)*nu)/155232+(205*sqrt(5)*nu**2)/1232), datatype='std::complex<double>')\n",
    "WaveformModes_NoSpin.AddDerivedConstant('hHat_2_0_5', -(sqrt(5/6)/4)*(-((253*sqrt(5)*pi)/1176)+253/294*sqrt(5)*pi*nu), datatype='std::complex<double>')\n",
    "WaveformModes_NoSpin.AddDerivedConstant('hHat_2_0_6', -(sqrt(5/6)/4)*(-(4397711103307/(372806074368*sqrt(5)))+((700464542023*sqrt(5))/48819843072-(205*sqrt(5)*pi**2)/336)*nu+(69527951*sqrt(5)*nu**2)/581188608+(1321981*sqrt(5)*nu**3)/20756736), datatype='std::complex<double>')\n",
    "# ell=3 (only from Favata)\n",
    "WaveformModes_NoSpin.AddDerivedConstant('hHat_3_0_5', -2/5*I*sqrt(6/7)*nu, datatype='std::complex<double>')\n",
    "# ell=4\n",
    "WaveformModes_NoSpin.AddDerivedConstant('hHat_4_0_0', -(1/(12*sqrt(2)))*1/42, datatype='std::complex<double>')\n",
    "WaveformModes_NoSpin.AddDerivedConstant('hHat_4_0_2', -(1/(12*sqrt(2)))*(-(180101/1241856)+(27227*nu)/44352), datatype='std::complex<double>')\n",
    "WaveformModes_NoSpin.AddDerivedConstant('hHat_4_0_4', -(1/(12*sqrt(2)))*(2201411267/6657251328-(34829479*nu)/18162144+(844951*nu**2)/1153152), datatype='std::complex<double>')\n",
    "WaveformModes_NoSpin.AddDerivedConstant('hHat_4_0_5', -(1/(12*sqrt(2)))*(-((13565*pi)/51744)+(13565*pi*nu)/12936), datatype='std::complex<double>')\n",
    "WaveformModes_NoSpin.AddDerivedConstant('hHat_4_0_6', -(1/(12*sqrt(2)))*(15240463356751/32806934544384+(-(1029744557245/1171676233728)-(205*pi**2)/4032)*nu-(4174614175*nu**2)/1549836288+(221405645*nu**3)/498161664), datatype='std::complex<double>')\n",
    "# ell=5\n",
    "# ell=6\n",
    "WaveformModes_NoSpin.AddDerivedConstant('hHat_6_0_0', -(1/(336*sqrt(21)))*0, datatype='std::complex<double>')\n",
    "WaveformModes_NoSpin.AddDerivedConstant('hHat_6_0_2', -(1/(336*sqrt(21)))*(-(4195/(177408*sqrt(13)))+(215*nu)/(2112*sqrt(13))), datatype='std::complex<double>')\n",
    "WaveformModes_NoSpin.AddDerivedConstant('hHat_6_0_4', -(1/(336*sqrt(21)))*(4151051/(24385536*sqrt(13))-(253535*nu)/(266112*sqrt(13))+(17185*nu**2)/(12672*sqrt(13))), datatype='std::complex<double>')\n",
    "WaveformModes_NoSpin.AddDerivedConstant('hHat_6_0_5', -(1/(336*sqrt(21)))*(-((5*sqrt(13)*pi)/1848)+5/462*sqrt(13)*pi*nu), datatype='std::complex<double>')\n",
    "WaveformModes_NoSpin.AddDerivedConstant('hHat_6_0_6', -(1/(336*sqrt(21)))*(-(3012132889099/(6128767991808*sqrt(13)))+(27653500031*nu)/(8106835968*sqrt(13))-(941405305*nu**2)/(124084224*sqrt(13))+(17709755*nu**3)/(10340352*sqrt(13))), datatype='std::complex<double>')\n",
    "# ell=8\n",
    "WaveformModes_NoSpin.AddDerivedConstant('hHat_8_0_0', -(1/(1008*sqrt(7)))*0, datatype='std::complex<double>')\n",
    "WaveformModes_NoSpin.AddDerivedConstant('hHat_8_0_2', -(1/(1008*sqrt(7)))*0, datatype='std::complex<double>')\n",
    "WaveformModes_NoSpin.AddDerivedConstant('hHat_8_0_4', -(1/(1008*sqrt(7)))*(75601/(8895744*sqrt(17))-(25115*nu)/(494208*sqrt(17))+(3395*nu**2)/(41184*sqrt(17))), datatype='std::complex<double>')\n",
    "WaveformModes_NoSpin.AddDerivedConstant('hHat_8_0_6', -(1/(1008*sqrt(7)))*(-(265361599/(3985293312*sqrt(17)))+(18177898147*nu)/(37860286464*sqrt(17))-(80280125*nu**2)/(75119616*sqrt(17))+(9677185*nu**3)/(12519936*sqrt(17))), datatype='std::complex<double>')"
   ]
  },
  {
   "cell_type": "markdown",
   "metadata": {},
   "source": [
    "Note that the Will & Wiseman paper uses the same notation as CQG 13 (1996) 575-584, which demonstrates the same results (to lower order) as arXiv:0802.1249v2 used above.  Thus, the conventions are compatible.  Additional 2pN terms come from Buonanno, Faye, and Hinderer arXiv:1209.6349v1.  The (2,2) mode is the same as the 2pN term appearing in Will & Wiseman."
   ]
  },
  {
   "cell_type": "code",
   "execution_count": 5,
   "metadata": {},
   "outputs": [],
   "source": [
    "WaveformModes_Spin_Asymm.AddDerivedVariable('hHat_spin_Asymm_2_2_2',\n",
    "    -(Sigma_lambda + I*Sigma_n)/(2*M**2),\n",
    "    datatype='std::complex<double>')\n",
    "\n",
    "WaveformModes_Spin_Symm.AddDerivedVariable('hHat_spin_Symm_2_2_3',\n",
    "    -(6*S_ell + 2*Sigma_ell*delta)/(3*M**2),\n",
    "    datatype='std::complex<double>')\n",
    "\n",
    "# fixed this mode because Mike's paper had an error\n",
    "WaveformModes_Spin_Symm.AddDerivedVariable('hHat_spin_Symm_2_2_4',\n",
    "    -(1/(84**M*4))*(14*(-24*S_ell**2-20*S_lambda**2+60*I*S_lambda*S_n+44*S_n**2-24*S_ell*Sigma_ell*delta+delta*(-6*Sigma_ell**2*delta-5*Sigma_lambda**2*delta+5*I*Sigma_lambda*(4*I*S_lambda+6*S_n+3*Sigma_n*delta)+Sigma_n*(30*I*S_lambda+44*S_n+11*Sigma_n*delta)))),\n",
    "    datatype='std::complex<double>')\n",
    "\n",
    "WaveformModes_Spin_Asymm.AddDerivedVariable('hHat_spin_Asymm_2_2_4',\n",
    "    -(1/(84**M*4))*(-19*M**2*S_lambda*delta-182*I*M**2*S_n*delta+14*I*M**2*Sigma_n*(-7 + 20*nu)+M**2*Sigma_lambda*(-5 + 43*nu)),\n",
    "    datatype='std::complex<double>')\n",
    "\n",
    "\n",
    "WaveformModes_Spin_Symm.AddDerivedVariable('hHat_spin_Symm_2_1_2',\n",
    "    I*Sigma_ell/(2*M**2),\n",
    "    datatype='std::complex<double>')\n",
    "\n",
    "#supermomentum add on term (first term) (fixed this mode because Mike's paper had an error)\n",
    "WaveformModes_Spin_Asymm.AddDerivedVariable('hHat_spin_Asymm_2_1_3',\n",
    "    -(sqrt(5/6)/4)*(-((61*(S_n-I*S_lambda))/(14*sqrt(30)*M**2))-(25*sqrt(15/2)*delta*(Sigma_n-I*Sigma_lambda))/(112*M**2))+(4*I*S_lambda + 25*S_n + 4*I*Sigma_lambda*delta + 13*Sigma_n*delta)/(6*M**2),\n",
    "    datatype='std::complex<double>')\n",
    "\n",
    "WaveformModes_Spin_Symm.AddDerivedVariable('hHat_spin_Symm_2_1_4',\n",
    "    -((I*M**2*(86*S_ell*delta+Sigma_ell*(79 - 139*nu)))/(42*M**4)),\n",
    "    datatype='std::complex<double>')\n",
    "\n",
    "#supermomentum add on term (first term)\n",
    "WaveformModes_Spin_Asymm.AddDerivedVariable('hHat_spin_Asymm_2_1_4',\n",
    "    -(sqrt(5/6)/4)*((sqrt(15/2)*delta*((S_n-I*S_lambda)*Sigma_ell+S_ell*(Sigma_n-I*Sigma_lambda)))/(14*M**4)+(sqrt(5/6)*(3*S_ell*(S_n-I*S_lambda)+Sigma_ell*(Sigma_n-I*Sigma_lambda)))/(7*M**4)-(sqrt(15/2)*nu*Sigma_ell*(Sigma_n-I*Sigma_lambda))/(7*M**4))-((63*(2*S_ell+Sigma_ell*delta)*(2*S_n+Sigma_n*delta))/(42*M**4)),\n",
    "    datatype='std::complex<double>')\n",
    "\n",
    "\n",
    "WaveformModes_Spin_Asymm.AddDerivedVariable('hHat_spin_Asymm_2_0_2',\n",
    "    sqrt(6)*I*Sigma_n/(6*M**2),\n",
    "    datatype='std::complex<double>')\n",
    "\n",
    "#supermomentum term\n",
    "WaveformModes_Spin_Symm.AddDerivedVariable('hHat_spin_Symm_2_0_3',\n",
    "    -(sqrt(5/6)/4)*((32*sqrt(5)*S_ell)/(21*M**2)+(419*delta*Sigma_ell)/(112*sqrt(5)*M**2)),\n",
    "    datatype='std::complex<double>')\n",
    "\n",
    "#supermomentum add on term (first term) (fixed this mode because Mike's paper had an error)\n",
    "WaveformModes_Spin_Symm.AddDerivedVariable('hHat_spin_Symm_2_0_4',\n",
    "    -(sqrt(5/6)/4)*(-(8*sqrt(5)*delta*((S_ell*Sigma_ell+S_n*Sigma_n+S_lambda*Sigma_lambda)+2*S_ell*Sigma_ell))/(21*M**4)-(sqrt(5)*(128*(S_ell**2+S_n**2+S_lambda**2)+24*(Sigma_ell**2+Sigma_n**2+Sigma_lambda**2)+256*S_ell**2+75*Sigma_ell**2))/(336*M**4)+nu*(((8*sqrt(5)*((Sigma_ell**2+Sigma_n**2+Sigma_lambda**2)+2*Sigma_ell**2))/(21*M**4))))+(-21*(2*S_lambda-2*S_n+(Sigma_lambda - Sigma_n)*delta)*(2*(S_lambda+S_n)+(Sigma_lambda+Sigma_n)*delta))/(21*sqrt(6)*M**4),\n",
    "    datatype='std::complex<double>')\n",
    "\n",
    "WaveformModes_Spin_Asymm.AddDerivedVariable('hHat_spin_Asymm_2_0_4',\n",
    "    (255*I*M**2*S_n*delta+I*M**2*Sigma_n*(45 - 506*nu))/(21*sqrt(6)*M**4),\n",
    "    datatype='std::complex<double>')\n",
    "WaveformModes_Spin_Symm.AddDerivedVariable('hHat_spin_Symm_2_0_5',\n",
    "    -(sqrt(5/6)/4)*((179869*sqrt(5)*S_ell)/(74088*M**2)+(289127*sqrt(5)*delta*Sigma_ell)/(790272*M**2)+nu*((319*sqrt(5)*S_ell)/(882*M**2)+(1775*sqrt(5)*delta*Sigma_ell)/(9408*M**2))),\n",
    "    datatype='std::complex<double>')\n",
    "WaveformModes_Spin_Symm.AddDerivedVariable('hHat_spin_Symm_2_0_6',\n",
    "    -(sqrt(5/6)/4)*(delta*((23*sqrt(5)*pi*Sigma_ell)/(1344*M**2)+(173191*sqrt(5)*S_ell*Sigma_ell)/(56448*M**4))+(sqrt(5)*(63808*S_ell**2+99197*Sigma_ell**2))/(75264*M**4)+(nu**2*(31*sqrt(5)*Sigma_ell**2))/(42*M**4)+nu*(-((31*sqrt(5)*delta*S_ell*Sigma_ell)/(42*M**4))-(sqrt(5)*(20832*S_ell**2+142529*Sigma_ell**2))/(28224*M**4))),\n",
    "    datatype='std::complex<double>')\n",
    "WaveformModes_Spin_Symm.AddDerivedVariable('hHat_spin_Symm_2_0_7',\n",
    "    -(sqrt(5/6)/4)*((9724899179*sqrt(5)*S_ell)/(1056198528*M**2)+nu**2*(-((34739*sqrt(5)*S_ell)/(49896*M**2))-(66403*sqrt(5)*delta*Sigma_ell)/(177408*M**2))+(sqrt(5)*(36992*S_ell**3+22539*S_ell*Sigma_ell**2))/(1512*M**6)+(pi*(-(sqrt(5)*(3072*S_ell**2+779*Sigma_ell**2))))/(252*M**4)+delta*((14713254113*sqrt(5)*Sigma_ell)/(11266117632*M**2)-(256*sqrt(5)*pi*S_ell*Sigma_ell)/(21*M**4)+(sqrt(5)*(1605952*S_ell**2*Sigma_ell+106463*Sigma_ell**3))/(48384*M**6))+nu*(-((53090267*sqrt(5)*S_ell)/(2095632*M**2))-(1603*sqrt(5)*S_ell*Sigma_ell**2)/(27*M**6)+pi*(+((256*sqrt(5)*Sigma_ell**2)/(21*M**4)))+delta*(-((66021037*sqrt(5)*Sigma_ell)/(5588352*M**2))-(733*sqrt(5)*Sigma_ell**3)/(84*M**6)))),\n",
    "    datatype='std::complex<double>')\n",
    "\n",
    "WaveformModes_Spin_Asymm.AddDerivedVariable('hHat_spin_Asymm_3_3_3',\n",
    "    sqrt(210)*I*(S_lambda + I*S_n + delta*(Sigma_lambda + I*Sigma_n))/(21*M**2),\n",
    "    datatype='std::complex<double>')\n",
    "\n",
    "WaveformModes_Spin_Symm.AddDerivedVariable('hHat_spin_Symm_3_3_4',\n",
    "    3*sqrt(210)*I*(7*S_ell*delta - 3*Sigma_ell*(3*nu - 1))/(112*M**2),\n",
    "    datatype='std::complex<double>')\n",
    "\n",
    "\n",
    "WaveformModes_Spin_Symm.AddDerivedVariable('hHat_spin_Symm_3_2_3',\n",
    "    2*sqrt(35)*(S_ell + Sigma_ell*delta)/(21*M**2),\n",
    "    datatype='std::complex<double>')\n",
    "\n",
    "WaveformModes_Spin_Asymm.AddDerivedVariable('hHat_spin_Asymm_3_2_4',\n",
    "    sqrt(35)*(-Sigma_lambda*(83*nu - 17) + 4*I*Sigma_n*(55*nu - 13) + 25*delta*(S_lambda - 4*I*S_n))/(168*M**2),\n",
    "    datatype='std::complex<double>')\n",
    "\n",
    "\n",
    "WaveformModes_Spin_Asymm.AddDerivedVariable('hHat_spin_Asymm_3_1_3',\n",
    "    sqrt(14)*(I*S_lambda + S_n + delta*(I*Sigma_lambda + Sigma_n))/(21*M**2),\n",
    "    datatype='std::complex<double>')\n",
    "\n",
    "WaveformModes_Spin_Symm.AddDerivedVariable('hHat_spin_Symm_3_1_4',\n",
    "    sqrt(14)*I*(S_ell*delta - 5*Sigma_ell*(3*nu - 1))/(336*M**2),\n",
    "    datatype='std::complex<double>')\n",
    "\n",
    "\n",
    "WaveformModes_Spin_Asymm.AddDerivedVariable('hHat_spin_Asymm_3_0_4',\n",
    "    sqrt(42)*(-17*S_lambda*delta + Sigma_lambda*(35*nu - 9))/(168*M**2),\n",
    "    datatype='std::complex<double>')\n",
    "WaveformModes_Spin_Symm.AddDerivedVariable('hHat_spin_Symm_3_3_7',\n",
    "    -(sqrt(5/6)/4)*(-((8*x**(7/2)*nu*Sigma_ell)/(3*sqrt(35)*M**2))),\n",
    "    datatype='std::complex<double>')\n",
    "WaveformModes_Spin_Symm.AddDerivedVariable('hHat_spin_Symm_3_1_7',\n",
    "    -(sqrt(5/6)/4)*(-((8*sqrt(3/7)*x**(7/2)*nu*Sigma_ell)/(5*M**2))),\n",
    "    datatype='std::complex<double>')\n",
    "\n",
    "\n",
    "WaveformModes_Spin_Asymm.AddDerivedVariable('hHat_spin_Asymm_4_4_4',\n",
    "    9*sqrt(35)*(-3*Sigma_lambda*nu + Sigma_lambda - I*Sigma_n*(3*nu - 1) + delta*(S_lambda + I*S_n))/(56*M**2),\n",
    "    datatype='std::complex<double>')\n",
    "\n",
    "WaveformModes_Spin_Symm.AddDerivedVariable('hHat_spin_Symm_4_3_4',\n",
    "    9*sqrt(70)*I*(-S_ell*delta + 3*Sigma_ell*nu - Sigma_ell)/(112*M**2),\n",
    "    datatype='std::complex<double>')\n",
    "\n",
    "\n",
    "WaveformModes_Spin_Asymm.AddDerivedVariable('hHat_spin_Asymm_4_2_4',\n",
    "    sqrt(5)*(-13*Sigma_lambda*(3*nu - 1) + 14*I*Sigma_n*(3*nu - 1) + delta*(13*S_lambda - 14*I*S_n))/(168*M**2),\n",
    "    datatype='std::complex<double>')\n",
    "\n",
    "#supermomentum term\n",
    "WaveformModes_Spin_Asymm.AddDerivedVariable('hHat_spin_Asymm_4_1_3',\n",
    "    -(1/(12*sqrt(2)))*(-((13*(S_n-I*S_lambda))/(56*sqrt(5)*M**2))-(17*delta*(Sigma_n-I*Sigma_lambda))/(84*sqrt(5)*M**2)),\n",
    "    datatype='std::complex<double>')\n",
    "\n",
    "#supermomentum term\n",
    "WaveformModes_Spin_Asymm.AddDerivedVariable('hHat_spin_Asymm_4_1_4',\n",
    "    -(1/(12*sqrt(2)))*((sqrt(5)*delta*((S_n-I*S_lambda)*Sigma_ell+S_ell*(Sigma_n-I*Sigma_lambda)))/(168*M**4)+(sqrt(5)*(3*S_ell*(S_n-I*S_lambda)+Sigma_ell*(Sigma_n-I*Sigma_lambda)))/(252*M**4)-(sqrt(5)*nu*Sigma_ell*(Sigma_n-I*Sigma_lambda))/(84*M**4)),\n",
    "    datatype='std::complex<double>')\n",
    "\n",
    "WaveformModes_Spin_Symm.AddDerivedVariable('hHat_spin_Symm_4_1_4',\n",
    "    sqrt(10)*I*(S_ell*delta - 3*Sigma_ell*nu + Sigma_ell)/(336*M**2),\n",
    "    datatype='std::complex<double>')\n",
    "\n",
    "#supermomentum term\n",
    "WaveformModes_Spin_Symm.AddDerivedVariable('hHat_spin_Symm_4_0_3',\n",
    "    -(1/(12*sqrt(2)))*((5*S_ell)/(21*M**2)+(19*delta*Sigma_ell)/(112*M**2)),\n",
    "    datatype='std::complex<double>')\n",
    "\n",
    "#supermomentum term\n",
    "WaveformModes_Spin_Symm.AddDerivedVariable('hHat_spin_Symm_4_0_4',\n",
    "    -(1/(12*sqrt(2)))*(-(2*delta*((S_ell*Sigma_ell+S_n*Sigma_n+S_lambda*Sigma_lambda)+2*S_ell*Sigma_ell))/(63*M**4)+(-4*(16*(S_ell**2+S_n**2+S_lambda**2)+3*(Sigma_ell**2+Sigma_n**2+Sigma_lambda**2)+32*S_ell**2)-41*Sigma_ell**2)/(2016*M**4)+nu*((2*((Sigma_ell**2+Sigma_n**2+Sigma_lambda**2)+2*Sigma_ell**2))/(63*M**4))),\n",
    "    datatype='std::complex<double>')\n",
    "\n",
    "WaveformModes_Spin_Asymm.AddDerivedVariable('hHat_spin_Asymm_4_0_4',\n",
    "    sqrt(2)*I*(S_n*delta - 3*Sigma_n*nu + Sigma_n)/(168*M**2),\n",
    "    datatype='std::complex<double>')\n",
    "WaveformModes_Spin_Symm.AddDerivedVariable('hHat_spin_Symm_4_0_5',\n",
    "    -(sqrt(5/6)/4)*(-((626077*S_ell)/(724416*M**2))-(179791*delta*Sigma_ell)/(271656*M**2)+nu*((989419*S_ell)/(232848*M**2)+(361055*delta*Sigma_ell)/(155232*M**2))),\n",
    "    datatype='std::complex<double>')\n",
    "WaveformModes_Spin_Symm.AddDerivedVariable('hHat_spin_Symm_4_0_6',\n",
    "    -(sqrt(5/6)/4)*(delta*((25*pi*Sigma_ell)/(4032*M**2)+(1303525*S_ell*Sigma_ell)/(620928*M**4))+((1380815*S_ell**2)/931392+(352565*Sigma_ell**2)/516096)/M**4+(nu**2*(26435*Sigma_ell**2))/(11088*M**4)+nu*(-((26435*delta*S_ell*Sigma_ell)/(11088*M**4))-(5*(4737152*S_ell**2+6517253*Sigma_ell**2))/(9934848*M**4))),\n",
    "    datatype='std::complex<double>')\n",
    "WaveformModes_Spin_Symm.AddDerivedVariable('hHat_spin_Symm_4_0_7',\n",
    "    -(sqrt(5/6)/4)*((348470641109*S_ell)/(329533940736*M**2)+nu**2*((4773259*S_ell)/(5189184*M**2)+(5099915*delta*Sigma_ell)/(6918912*M**2))+(11776*S_ell**3+2887*S_ell*Sigma_ell**2)/(9072*M**6)+(pi*(-768*S_ell**2-193*Sigma_ell**2))/(756*M**4)+delta*((25969272883*Sigma_ell)/(39943507968*M**2)-(64*pi*S_ell*Sigma_ell)/(63*M**4)+((2971*S_ell**2*Sigma_ell)/2268-(55*Sigma_ell**3)/6912)/M**6)+nu*(-((712823899*S_ell)/(163459296*M**2))-(109*S_ell*Sigma_ell**2)/(81*M**6)+(pi*(64*Sigma_ell**2))/(63*M**4)+delta*(-((160373197*Sigma_ell)/(32288256*M**2))-Sigma_ell**3/(84*M**6)))),\n",
    "    datatype='std::complex<double>')\n",
    "WaveformModes_Spin_Symm.AddDerivedVariable('hHat_spin_Symm_6_0_5',\n",
    "    -(sqrt(5/6)/4)*(-((373355*S_ell)/(931392*sqrt(13)*M**2))-(407135*delta*Sigma_ell)/(1241856*sqrt(13)*M**2)+nu*((19135*S_ell)/(11088*sqrt(13)*M**2)+(16655*delta*Sigma_ell)/(14784*sqrt(13)*M**2))),\n",
    "    datatype='std::complex<double>')\n",
    "WaveformModes_Spin_Symm.AddDerivedVariable('hHat_spin_Symm_6_0_6',\n",
    "    -(sqrt(5/6)/4)*((8005*delta*S_ell*Sigma_ell)/(44352*sqrt(13)*M**4)+(5*(156544*S_ell**2+76263*Sigma_ell**2))/(5677056*sqrt(13)*M**4)+(nu**2*(215*Sigma_ell**2))/(528*sqrt(13)*M**4)+nu*(-((215*delta*S_ell*Sigma_ell)/(528*sqrt(13)*M**4))-(5*(115584*S_ell**2+99175*Sigma_ell**2))/(1419264*sqrt(13)*M**4))),\n",
    "    datatype='std::complex<double>')\n",
    "WaveformModes_Spin_Symm.AddDerivedVariable('hHat_spin_Symm_6_0_7',\n",
    "    -(sqrt(5/6)/4)*((1986903733*S_ell)/(1207084032*sqrt(13)*M**2)+(106983697*delta*Sigma_ell)/(73156608*sqrt(13)*M**2)+nu*(-((10654115*S_ell)/(1197504*sqrt(13)*M**2))-(7026595*delta*Sigma_ell)/(1064448*sqrt(13)*M**2))+nu**2*((198335*S_ell)/(19008*sqrt(13)*M**2)+(10165*delta*Sigma_ell)/(1584*sqrt(13)*M**2))),\n",
    "    datatype='std::complex<double>')\n",
    "WaveformModes_Spin_Symm.AddDerivedVariable('hHat_spin_Symm_8_0_7',\n",
    "    -(sqrt(5/6)/4)*((7786903*S_ell)/(40030848*sqrt(17)*M**2)+(9147661*delta*Sigma_ell)/(53374464*sqrt(17)*M**2)+nu*(-((2586845*S_ell)/(2223936*sqrt(17)*M**2))-(2640475*delta*Sigma_ell)/(2965248*sqrt(17)*M**2))+nu**2*((349685*S_ell)/(185328*sqrt(17)*M**2)+(99085*delta*Sigma_ell)/(82368*sqrt(17)*M**2))),\n",
    "    datatype='std::complex<double>')\n"
   ]
  },
  {
   "cell_type": "markdown",
   "metadata": {},
   "source": [
    "We automatically find the largest $\\ell$ value above, so that we don't need to remember to redefine it when adding new terms:"
   ]
  },
  {
   "cell_type": "code",
   "execution_count": 6,
   "metadata": {},
   "outputs": [],
   "source": [
    "import re\n",
    "ellRE = re.compile(r'.*?_(?P<ell>[0-9]*)_.*')\n",
    "ellMax = max([int(ellRE.search(val).group('ell'))\n",
    "              for Terms in [WaveformModes_NoSpin, WaveformModes_Spin_Symm, WaveformModes_Spin_Asymm]\n",
    "              for key,val in Terms.items()\n",
    "              if ellRE.match(val)\n",
    "              ])"
   ]
  },
  {
   "cell_type": "markdown",
   "metadata": {},
   "source": [
    "# Collected terms"
   ]
  },
  {
   "cell_type": "code",
   "execution_count": 7,
   "metadata": {},
   "outputs": [],
   "source": [
    "def SymmetricWaveformModes(LM=[2,2], WaveformModeTerms=[WaveformModes_NoSpin, WaveformModes_Spin_Symm], PNOrder=frac(7,2)):\n",
    "    if(LM[1]<0) :\n",
    "        return (-1)**LM[0]*conjugate(SymmetricWaveformModes([LM[0],-LM[1]], WaveformModeTerms, PNOrder)).simplify()\n",
    "    # We have to play some tricks with the log terms so that `horner` works\n",
    "    def logterm(key,val):\n",
    "        if 'lnv' in val:\n",
    "            return logv\n",
    "        else:\n",
    "            return 1\n",
    "    return rhOverM_coeff*horner(sum([key*(v**n)*logterm(key,val)\n",
    "                                     for Terms in WaveformModeTerms\n",
    "                                     for n in range(2*PNOrder+1)\n",
    "                                     for key,val in Terms.items()\n",
    "                                     if (val.endswith('_{0}'.format(n))\n",
    "                                         and '_{0}_{1}_'.format(LM[0],LM[1]) in val)])).subs(logv, ln(v))"
   ]
  },
  {
   "cell_type": "code",
   "execution_count": 8,
   "metadata": {},
   "outputs": [],
   "source": [
    "def AsymmetricWaveformModes(LM=[2,2], PNOrder=frac(7,2)):\n",
    "    if(LM[1]<0) :\n",
    "        return (-1)**(LM[0]+1)*conjugate(AsymmetricWaveformModes([LM[0],-LM[1]], PNOrder)).simplify()\n",
    "    # We have to play some tricks with the log terms so that `horner` works\n",
    "    def logterm(key,val):\n",
    "        if 'lnv' in val:\n",
    "            return logv\n",
    "        else:\n",
    "            return 1\n",
    "    return rhOverM_coeff*horner(sum([key*(v**n)*logterm(key,val)\n",
    "                                     for n in range(2*PNOrder+1)\n",
    "                                     for key,val in WaveformModes_Spin_Asymm.items()\n",
    "                                     if (val.endswith('_{0}'.format(n))\n",
    "                                         and '_{0}_{1}_'.format(LM[0],LM[1]) in val)])).subs(logv, ln(v))"
   ]
  },
  {
   "cell_type": "code",
   "execution_count": 9,
   "metadata": {},
   "outputs": [
    {
     "data": {
      "image/png": "[encoded data removed]",
      "text/latex": [
       "$$rhOverM_{coeff} \\left(\\hat{h}_{2 2 0} + v^{2} \\left(\\hat{h}_{2 2 2} + v \\left(\\hat{h}_{2 2 3} + \\hat{h}_{spin Symm 2 2 3} + v \\left(\\hat{h}_{2 2 4} + \\hat{h}_{spin Symm 2 2 4} + v \\left(\\hat{h}_{2 2 5} + v \\left(\\hat{h}_{2 2 6} + \\hat{h}_{2 2 7} v + \\hat{h}_{2 2 lnv 6} \\log{\\left (v \\right )}\\right)\\right)\\right)\\right)\\right)\\right)$$"
      ],
      "text/plain": [
       "              ⎛           2                                                   \n",
       "rhOverM_coeff⋅⎝ĥ₂ ₂ ₀ + v ⋅(ĥ₂ ₂ ₂ + v⋅(ĥ₂ ₂ ₃ + ĥ_spin_Symm_2_2_3 + v⋅(ĥ\n",
       "\n",
       "                                                                              \n",
       "₂ ₂ ₄ + ĥ_spin_Symm_2_2_4 + v⋅(ĥ₂ ₂ ₅ + v⋅(ĥ₂ ₂ ₆ + ĥ₂ ₂ ₇⋅v + ĥ_2_2_lnv_\n",
       "\n",
       "             ⎞\n",
       "6⋅log(v))))))⎠"
      ]
     },
     "metadata": {},
     "output_type": "display_data"
    }
   ],
   "source": [
    "# display(SymmetricWaveformModes(PNOrder=frac(8,2)))"
   ]
  },
  {
   "cell_type": "code",
   "execution_count": 10,
   "metadata": {},
   "outputs": [
    {
     "data": {
      "image/png": "[encoded data removed]",
      "text/latex": [
       "$$rhOverM_{coeff} v \\left(\\hat{h}_{2 1 1} + v \\left(\\hat{h}_{spin Symm 2 1 2} + v \\left(\\hat{h}_{2 1 3} + v \\left(\\hat{h}_{2 1 4} + \\hat{h}_{spin Symm 2 1 4} + v \\left(\\hat{h}_{2 1 5} + \\hat{h}_{2 1 6} v\\right)\\right)\\right)\\right)\\right)$$"
      ],
      "text/plain": [
       "rhOverM_coeff⋅v⋅(ĥ₂ ₁ ₁ + v⋅(ĥ_spin_Symm_2_1_2 + v⋅(ĥ₂ ₁ ₃ + v⋅(ĥ₂ ₁ ₄ + h\n",
       "̂_spin_Symm_2_1_4 + v⋅(ĥ₂ ₁ ₅ + ĥ₂ ₁ ₆⋅v)))))"
      ]
     },
     "metadata": {},
     "output_type": "display_data"
    }
   ],
   "source": [
    "# display(SymmetricWaveformModes([2,1], PNOrder=frac(8,2)))"
   ]
  },
  {
   "cell_type": "code",
   "execution_count": 11,
   "metadata": {},
   "outputs": [
    {
     "data": {
      "image/png": "[encoded data removed]",
      "text/latex": [
       "$$rhOverM_{coeff} v^{2} \\left(\\hat{h}_{spin Asymm 2 2 2} + \\hat{h}_{spin Asymm 2 2 4} v^{2}\\right)$$"
      ],
      "text/plain": [
       "               2 ⎛                                           2⎞\n",
       "rhOverM_coeff⋅v ⋅⎝ĥ_spin_Asymm_2_2_2 + ĥ_spin_Asymm_2_2_4⋅v ⎠"
      ]
     },
     "metadata": {},
     "output_type": "display_data"
    }
   ],
   "source": [
    "# display(AsymmetricWaveformModes(PNOrder=frac(8,2)))"
   ]
  },
  {
   "cell_type": "code",
   "execution_count": 12,
   "metadata": {},
   "outputs": [
    {
     "data": {
      "image/png": "[encoded data removed]",
      "text/latex": [
       "$$rhOverM_{coeff} v^{3} \\left(\\hat{h}_{spin Asymm 2 1 3} + \\hat{h}_{spin Asymm 2 1 4} v\\right)$$"
      ],
      "text/plain": [
       "               3                                              \n",
       "rhOverM_coeff⋅v ⋅(ĥ_spin_Asymm_2_1_3 + ĥ_spin_Asymm_2_1_4⋅v)"
      ]
     },
     "metadata": {},
     "output_type": "display_data"
    }
   ],
   "source": [
    "# display(AsymmetricWaveformModes([2,1], PNOrder=frac(8,2)))"
   ]
  }
 ],
 "metadata": {
  "kernelspec": {
   "display_name": "Python 3 (ipykernel)",
   "language": "python",
   "name": "python3"
  },
  "language_info": {
   "codemirror_mode": {
    "name": "ipython",
    "version": 3
   },
   "file_extension": ".py",
   "mimetype": "text/x-python",
   "name": "python",
   "nbconvert_exporter": "python",
   "pygments_lexer": "ipython3",
   "version": "3.9.12"
  }
 },
 "nbformat": 4,
 "nbformat_minor": 1
}
