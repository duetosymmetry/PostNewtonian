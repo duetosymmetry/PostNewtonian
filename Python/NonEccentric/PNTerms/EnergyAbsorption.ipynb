{
 "cells": [
  {
   "cell_type": "code",
   "execution_count": 1,
   "metadata": {
    "collapsed": false
   },
   "outputs": [],
   "source": [
    "# Always run this first\n",
    "# NOTE: Do not define new basic variables in this notebook;\n",
    "#       define them in Variables_Q.ipynb.  Use this notebook\n",
    "#       to define new expressions built from those variables.\n",
    "\n",
    "from __future__ import division # This needs to be here, even though it's in Variables_Q.ipynb\n",
    "import sys\n",
    "sys.path.insert(0, '..') # Look for modules in directory above this one\n",
    "execfile('../Utilities/ExecNotebook.ipy')\n",
    "execnotebook('Flux.ipynb')"
   ]
  },
  {
   "cell_type": "markdown",
   "metadata": {},
   "source": [
    "This collection of absorption terms is possibly incomplete; only [Alvi (2001)](http://link.aps.org/doi/10.1103/PhysRevD.64.104020) is used.\n",
    "\n",
    "See also (the last three referenced by Marsat et al.)\n",
    "\n",
    "  - [Tagoshi, Sasaki (1994)](http://arxiv.org/abs/gr-qc/9405062)\n",
    "  - E. Poisson and M. Sasaki, Phys. Rev. D 51, 5753 (1995)\n",
    "  - H. Tagoshi, S. Mano, and E. Takasugi, Prog. Theor. Phys. 98, 829 (1997), arXiv:gr-qc/9711072\n",
    "  - K. Chatziioannou, E. Poisson, and N. Yunes, (2012), arXiv:1211.1686"
   ]
  },
  {
   "cell_type": "code",
   "execution_count": 2,
   "metadata": {
    "collapsed": false
   },
   "outputs": [],
   "source": [
    "AlviTerms = PNCollection()"
   ]
  },
  {
   "cell_type": "code",
   "execution_count": 3,
   "metadata": {
    "collapsed": false
   },
   "outputs": [],
   "source": [
    "AlviTerms.AddDerivedVariable('MDot_Alvi_5',\n",
    "    -((M1/M)**3*(1+3*chi1chi1)*chi1_ell + (M2/M)**3*(1+3*chi2chi2)*chi2_ell)/4)\n",
    "\n",
    "AlviTerms.AddDerivedConstant('MDot_Alvi_8',\n",
    "    (M1/M)**4*(1+3*chi1chi1)*(1+sqrt(1-chi1chi1))/2 + (M2/M)**4*(1+3*chi2chi2)*(1+sqrt(1-chi2chi2))/2)"
   ]
  },
  {
   "cell_type": "code",
   "execution_count": 4,
   "metadata": {
    "collapsed": false
   },
   "outputs": [],
   "source": [
    "def AbsorptionExpression(AbsorptionTerms=[AlviTerms], PNOrder=frac(7,2)):\n",
    "    # The following two lines should be removed together\n",
    "    print(\"WARNING: Absorption term in EnergyAbsorption.ipynb temporarily disabled.\")\n",
    "    return sympify('0')\n",
    "\n",
    "    if not AbsorptionTerms:\n",
    "        return sympify('0')\n",
    "    return Fcal_coeff*horner(sum([key*(v**n)\n",
    "                                  for Terms in AbsorptionTerms\n",
    "                                  for n in range(2*PNOrder+1)\n",
    "                                  for key,val in Terms.items()\n",
    "                                  if val.endswith('_{0}'.format(n))]))"
   ]
  },
  {
   "cell_type": "code",
   "execution_count": 5,
   "metadata": {
    "collapsed": false
   },
   "outputs": [
    {
     "data": {
      "image/png": "[encoded data removed]",
      "text/latex": [
       "$$\\mathcal{F}_{coeff} \\dot{M}_{Alvi 5} v^{5}$$"
      ],
      "text/plain": [
       "                      5\n",
       "Fcal_coeff⋅Ṁ_Alvi_5⋅v "
      ]
     },
     "execution_count": 5,
     "metadata": {},
     "output_type": "execute_result"
    }
   ],
   "source": [
    "# AbsorptionExpression([AlviTerms], frac(7,2))"
   ]
  }
 ],
 "metadata": {
  "kernelspec": {
   "display_name": "Python 3",
   "language": "python",
   "name": "python3"
  },
  "language_info": {
   "codemirror_mode": {
    "name": "ipython",
    "version": 3
   },
   "file_extension": ".py",
   "mimetype": "text/x-python",
   "name": "python",
   "nbconvert_exporter": "python",
   "pygments_lexer": "ipython3",
   "version": "3.4.3"
  }
 },
 "nbformat": 4,
 "nbformat_minor": 0
}
