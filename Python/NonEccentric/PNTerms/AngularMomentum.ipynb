{
 "cells": [
  {
   "cell_type": "code",
   "execution_count": 1,
   "metadata": {
    "collapsed": false
   },
   "outputs": [],
   "source": [
    "# Always run this first\n",
    "# NOTE: Do not define new basic variables in this notebook;\n",
    "#       define them in Variables_Q.ipynb.  Use this notebook\n",
    "#       to define new expressions built from those variables.\n",
    "\n",
    "from __future__ import division # This needs to be here, even though it's in Variables_Q.ipynb\n",
    "import sys\n",
    "sys.path.insert(0, '..') # Look for modules in directory above this one\n",
    "execfile('../Utilities/ExecNotebook.ipy')\n",
    "try: execnotebook(VariablesNotebook)\n",
    "except: execnotebook('Variables_Q.ipynb')"
   ]
  },
  {
   "cell_type": "markdown",
   "metadata": {},
   "source": [
    "The following `PNCollection` objects will contain all the terms in the different parts of the binding energy."
   ]
  },
  {
   "cell_type": "code",
   "execution_count": 2,
   "metadata": {
    "collapsed": false
   },
   "outputs": [],
   "source": [
    "AngularMomentum_NoSpin = PNCollection()\n",
    "AngularMomentum_Spin = PNCollection()"
   ]
  },
  {
   "cell_type": "markdown",
   "metadata": {},
   "source": [
    "# Individual energy terms"
   ]
  },
  {
   "cell_type": "markdown",
   "metadata": {},
   "source": [
    "In this notebook, every term will be multiplied by the following coefficient."
   ]
  },
  {
   "cell_type": "code",
   "execution_count": 3,
   "metadata": {
    "collapsed": false
   },
   "outputs": [],
   "source": [
    "AngularMomentum_NoSpin.AddDerivedVariable('L_coeff', M**2*nu/v)"
   ]
  },
  {
   "cell_type": "markdown",
   "metadata": {},
   "source": [
    "Note that fractions need to be entered as, e.g., `frac(3,4)` so that they are not converted to finite-precision decimals."
   ]
  },
  {
   "cell_type": "markdown",
   "metadata": {},
   "source": [
    "The nonspinning orbital binding energy is known through 4pN.  The 5pN term has a known relationship to the 5pN binding energy term $e_5(\\nu)$, though the latter is still incomplete.  We set it to zero here.  These expressions come from Eq. (230) and related footnotes of [Blanchet (2006)](http://www.livingreviews.org/lrr-2006-4).  Note that his calculation is for nonspinning systems, so he writes the quantity as $J$, which is assumed to be the component along $\\hat{\\ell}$."
   ]
  },
  {
   "cell_type": "code",
   "execution_count": 4,
   "metadata": {
    "collapsed": false
   },
   "outputs": [],
   "source": [
    "e_5 = 0 # Placeholder for unknown term in energy expression."
   ]
  },
  {
   "cell_type": "code",
   "execution_count": 5,
   "metadata": {
    "collapsed": false
   },
   "outputs": [],
   "source": [
    "AngularMomentum_NoSpin.AddDerivedConstant('L_0', ellHat,\n",
    "    datatype=ellHat.datatype)\n",
    "# L_1 is 0\n",
    "AngularMomentum_NoSpin.AddDerivedConstant('L_2', (frac(3,2) + frac(1,6)*nu)*ellHat,\n",
    "    datatype=ellHat.datatype)\n",
    "# L_3 is 0\n",
    "AngularMomentum_NoSpin.AddDerivedConstant('L_4', (frac(27,8) - frac(19,8)*nu + frac(1,24)*nu**2)*ellHat,\n",
    "    datatype=ellHat.datatype)\n",
    "# L_5 is 0\n",
    "AngularMomentum_NoSpin.AddDerivedConstant('L_6', (frac(135,16) + (-frac(6889,144) + frac(41,24)*pi**2)*nu\n",
    "    + frac(31,24)*nu**2 + frac(7,1296)*nu**3)*ellHat,\n",
    "    datatype=ellHat.datatype)\n",
    "# L_7 is 0\n",
    "AngularMomentum_NoSpin.AddDerivedConstant('L_8',\n",
    "    (frac(2835,128) - frac(5,7)*nu*((-frac(123671,5760)+frac(9037,1536)*pi**2+frac(1792,15)*ln(2)+frac(896,15)*EulerGamma)\n",
    "                                   + (-frac(498449,3456) + frac(3157,576)*pi**2)*nu\n",
    "                                   + frac(301,1728)*nu**2 + frac(77,31104)*nu**3) + frac(64,35)*nu)*ellHat,\n",
    "    datatype=ellHat.datatype)\n",
    "AngularMomentum_NoSpin.AddDerivedConstant('L_lnv_8', (-frac(128,3)*nu)*ellHat,\n",
    "    datatype=ellHat.datatype)\n",
    "# L_9 is 0\n",
    "\n",
    "# Below are the incomplete terms\n",
    "AngularMomentum_NoSpin.AddDerivedConstant('L_10',\n",
    "    (frac(15309,256) + nu*(-frac(2,3)*e_5 - frac(4988,945) - frac(656,135)*nu))*ellHat,\n",
    "    datatype=ellHat.datatype)\n",
    "AngularMomentum_NoSpin.AddDerivedConstant('L_lnv_10', ((frac(9976,105) + frac(1312,15)*nu)*nu*2)*ellHat,\n",
    "    datatype=ellHat.datatype)"
   ]
  },
  {
   "cell_type": "markdown",
   "metadata": {},
   "source": [
    "***(Look for spin-squared terms.)***"
   ]
  },
  {
   "cell_type": "markdown",
   "metadata": {},
   "source": [
    "The spin-orbit terms in the angular momentum are complete to 3.5pN.  These terms come from Eq. (4.7) of [Bohé et al. (2012)](http://arxiv.org/abs/1212.5520v2):"
   ]
  },
  {
   "cell_type": "code",
   "execution_count": 6,
   "metadata": {
    "collapsed": false
   },
   "outputs": [],
   "source": [
    "# Lower-order terms are 0\n",
    "AngularMomentum_Spin.AddDerivedVariable('L_SO_3',\n",
    "    (-(35*S_ell + 15*Sigma_ell*delta)/(6*M**2))*ellHat\n",
    "    + ((S_n + Sigma_n*delta)/(2*M**2))*nHat\n",
    "    + (-(3*S_lambda + Sigma_lambda*delta)/M**2)*lambdaHat,\n",
    "    datatype=ellHat.datatype)\n",
    "# L_SO_4 is 0\n",
    "AngularMomentum_Spin.AddDerivedVariable('L_SO_5',\n",
    "    (7*(61*S_ell*nu - 99*S_ell + 30*Sigma_ell*delta*nu - 27*Sigma_ell*delta)/(72*M**2))*ellHat\n",
    "    + ((-19*S_n*nu + 33*S_n - 10*Sigma_n*delta*nu + 33*Sigma_n*delta)/(24*M**2))*nHat\n",
    "    + ((18*S_lambda*nu - 21*S_lambda + 8*Sigma_lambda*delta*nu - 3*Sigma_lambda*delta)/(6*M**2))*lambdaHat,\n",
    "    datatype=ellHat.datatype)\n",
    "# L_SO_6 is 0\n",
    "AngularMomentum_Spin.AddDerivedVariable('L_SO_7',\n",
    "    ((-29*S_ell*nu**2 + 1101*S_ell*nu - 405*S_ell - 15*Sigma_ell*delta*nu**2 + 468*Sigma_ell*delta*nu\n",
    "      - 81*Sigma_ell*delta)/(16*M**2))*ellHat\n",
    "    + ((11*S_n*nu**2 - 1331*S_n*nu + 183*S_n + 5*Sigma_n*delta*nu**2 - 734*Sigma_n*delta*nu\n",
    "        + 183*Sigma_n*delta)/(48*M**2))*nHat\n",
    "    + ((-32*S_lambda*nu**2 + 2*S_lambda*nu - 174*S_lambda - 16*Sigma_lambda*delta*nu**2 - 79*Sigma_lambda*delta*nu\n",
    "        - 12*Sigma_lambda*delta)/(24*M**2))*lambdaHat,\n",
    "    datatype=ellHat.datatype)"
   ]
  },
  {
   "cell_type": "markdown",
   "metadata": {},
   "source": [
    "# Collected terms"
   ]
  },
  {
   "cell_type": "code",
   "execution_count": 7,
   "metadata": {
    "collapsed": false
   },
   "outputs": [],
   "source": [
    "def AngularMomentumExpression(AngularMomentumTerms=[AngularMomentum_NoSpin, AngularMomentum_Spin], PNOrder=frac(7,2)):\n",
    "    # We have to play some tricks with the log terms so that `horner` works\n",
    "    def logterm(key,val):\n",
    "        if 'lnv' in val:\n",
    "            return logv\n",
    "        else:\n",
    "            return 1\n",
    "    return L_coeff*horner(sum([key*(v**n)*logterm(key,val)\n",
    "                               for Terms in AngularMomentumTerms\n",
    "                               for n in range(2*PNOrder+1)\n",
    "                               for key,val in Terms.items()\n",
    "                               if val.endswith('_{0}'.format(n))])).subs(logv, ln(v))"
   ]
  },
  {
   "cell_type": "code",
   "execution_count": 8,
   "metadata": {
    "collapsed": false
   },
   "outputs": [
    {
     "data": {
      "image/png": "[encoded data removed]",
      "text/latex": [
       "$$L_{coeff} \\left(L_{0} + v^{2} \\left(L_{2} + v \\left(L_{SO 3} + v \\left(L_{4} + v \\left(L_{SO 5} + v \\left(L_{6} + v \\left(L_{SO 7} + v \\left(L_{8} + L_{lnv 8} \\log{\\left (v \\right )}\\right)\\right)\\right)\\right)\\right)\\right)\\right)\\right)$$"
      ],
      "text/plain": [
       "        ⎛      2                                                              \n",
       "L_coeff⋅⎝L₀ + v ⋅(L₂ + v⋅(L_SO_3 + v⋅(L₄ + v⋅(L_SO_5 + v⋅(L₆ + v⋅(L_SO_7 + v⋅(\n",
       "\n",
       "                          ⎞\n",
       "L₈ + L_lnv_8⋅log(v))))))))⎠"
      ]
     },
     "metadata": {},
     "output_type": "display_data"
    }
   ],
   "source": [
    "# display(AngularMomentumExpression(PNOrder=frac(8,2)))"
   ]
  }
 ],
 "metadata": {
  "kernelspec": {
   "display_name": "Python 3",
   "language": "python",
   "name": "python3"
  },
  "language_info": {
   "codemirror_mode": {
    "name": "ipython",
    "version": 3
   },
   "file_extension": ".py",
   "mimetype": "text/x-python",
   "name": "python",
   "nbconvert_exporter": "python",
   "pygments_lexer": "ipython3",
   "version": "3.4.3"
  }
 },
 "nbformat": 4,
 "nbformat_minor": 0
}
