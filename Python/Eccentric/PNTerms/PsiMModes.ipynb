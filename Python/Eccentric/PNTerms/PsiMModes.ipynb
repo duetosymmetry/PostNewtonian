{
 "cells": [
  {
   "cell_type": "markdown",
   "metadata": {},
   "source": [
    "***NOTE:***  The expressions in this notebook are not yet validated.  I have no reason to believe they are wrong, but I can't make any guarantees.  All other notebooks in this directory have been validated, however, and at least agree with all results I know of in the literature."
   ]
  },
  {
   "cell_type": "code",
   "execution_count": 1,
   "metadata": {},
   "outputs": [
    {
     "name": "stderr",
     "output_type": "stream",
     "text": [
      "/home/dzsun/miniconda3/lib/python3.9/site-packages/IPython/nbformat.py:12: ShimWarning: The `IPython.nbformat` package has been deprecated since IPython 4.0. You should import from nbformat instead.\n",
      "  warn(\"The `IPython.nbformat` package has been deprecated since IPython 4.0. \"\n",
      "/home/dzsun/miniconda3/lib/python3.9/site-packages/nbformat/current.py:14: UserWarning: nbformat.current is deprecated.\n",
      "\n",
      "- use nbformat for read/write/validate public API\n",
      "- use nbformat.vX directly to composing notebooks of a particular version\n",
      "\n",
      "  warnings.warn(\n"
     ]
    }
   ],
   "source": [
    "# Always run this first\n",
    "# NOTE: Do not define new basic variables in this notebook;\n",
    "#       define them in Variables_Q.ipynb.  Use this notebook\n",
    "#       to define new expressions built from those variables.\n",
    "\n",
    "from __future__ import division # This needs to be here, even though it's in Variables_Q.ipynb\n",
    "import sys\n",
    "sys.path.insert(0, '..') # Look for modules in directory above this one\n",
    "execfile('../Utilities/ExecNotebook.ipy')\n",
    "try: execnotebook(VariablesNotebook)\n",
    "except: execnotebook('Variables_Q.ipynb')"
   ]
  },
  {
   "cell_type": "markdown",
   "metadata": {},
   "source": [
    "The following `PNCollection` objects will contain all the terms in the different parts of the waveform modes."
   ]
  },
  {
   "cell_type": "code",
   "execution_count": 2,
   "metadata": {},
   "outputs": [],
   "source": [
    "WaveformModes_NoSpin = PNCollection()\n",
    "WaveformModes_Spin_Symm = PNCollection()\n",
    "WaveformModes_Spin_Asymm = PNCollection()"
   ]
  },
  {
   "cell_type": "markdown",
   "metadata": {},
   "source": [
    "# Individual terms"
   ]
  },
  {
   "cell_type": "markdown",
   "metadata": {},
   "source": [
    "In this notebook, every term will be multiplied by the following coefficient."
   ]
  },
  {
   "cell_type": "code",
   "execution_count": 3,
   "metadata": {},
   "outputs": [],
   "source": [
    "WaveformModes_NoSpin.AddDerivedVariable('rhOverM_coeff', 2*nu*v**2*sqrt(pi/4), datatype='std::complex<double>')"
   ]
  },
  {
   "cell_type": "markdown",
   "metadata": {},
   "source": [
    "Note that fractions need to be entered as, e.g., `frac(3,4)` so that they are not converted to finite-precision decimals."
   ]
  },
  {
   "cell_type": "markdown",
   "metadata": {},
   "source": [
    "The following expressions are taken from Eqs. (9.3) and (9.4) of [Blanchet et al. (2008)](http://arxiv.org/abs/0802.1249v3), except the final term in the $(2,2)$ expression, which is taken from Eq. (6.5) of [Faye et al. (2012)](http://arxiv.org/abs/1204.1043v2), and the final terms in the $(3,3)$ and $(3,1)$ expressions, which are taken from Eqs. (4.18) of [Faye et al. (2014)](http://arxiv.org/abs/1409.3546v1)."
   ]
  },
  {
   "cell_type": "code",
   "execution_count": 4,
   "metadata": {},
   "outputs": [],
   "source": [
    "# ell=0\n",
    "WaveformModes_NoSpin.AddDerivedConstant('hHat_0_0_0', 1, datatype='std::complex<double>')\n",
    "WaveformModes_NoSpin.AddDerivedConstant('hHat_0_0_2', (-(3/4)-nu/12), datatype='std::complex<double>')\n",
    "WaveformModes_NoSpin.AddDerivedConstant('hHat_0_0_4', (-(27/8)+(19*nu)/8-nu**2/24), datatype='std::complex<double>')\n",
    "WaveformModes_NoSpin.AddDerivedConstant('hHat_0_0_6', (-(675/64)+(34445/576-(205*pi**2)/96)*nu-(155*nu**2)/96-(35*nu**3)/5184), datatype='std::complex<double>')\n",
    "# ell=1\n",
    "WaveformModes_NoSpin.AddDerivedConstant('hHat_1_1_6', 464/35*sqrt(2/3)*delta*nu, datatype='std::complex<double>')\n",
    "# ell=2\n",
    "WaveformModes_NoSpin.AddDerivedConstant('hHat_2_0_0', (2*sqrt(5))/7, datatype='std::complex<double>')\n",
    "WaveformModes_NoSpin.AddDerivedConstant('hHat_2_0_2', (-((4075*sqrt(5))/14112)+(67*(5)*nu)/168), datatype='std::complex<double>')\n",
    "WaveformModes_NoSpin.AddDerivedConstant('hHat_2_0_4', (-((151877213*sqrt(5))/234710784)-(123815*sqrt(5)*nu)/155232+(205*sqrt(5)*nu**2)/1232), datatype='std::complex<double>')\n",
    "WaveformModes_NoSpin.AddDerivedConstant('hHat_2_0_5', (-((253*sqrt(5)*pi)/1176)+253/294*sqrt(5)*pi*nu), datatype='std::complex<double>')\n",
    "WaveformModes_NoSpin.AddDerivedConstant('hHat_2_0_6', (-(4397711103307/(372806074368*sqrt(5)))+((700464542023*sqrt(5))/48819843072-(205*sqrt(5)*pi**2)/336)*nu+(69527951*sqrt(5)*nu**2)/581188608+(1321981*sqrt(5)*nu**3)/20756736), datatype='std::complex<double>')\n",
    "# ell=3\n",
    "WaveformModes_NoSpin.AddDerivedConstant('hHat_3_3_6', -((44*delta*nu)/(27*sqrt(35))), datatype='std::complex<double>')\n",
    "WaveformModes_NoSpin.AddDerivedConstant('hHat_3_1_6', (484*delta*nu)/(15*sqrt(21)), datatype='std::complex<double>')\n",
    "# ell=4\n",
    "WaveformModes_NoSpin.AddDerivedConstant('hHat_4_4_5', -(4/3)*I*sqrt(2/35)*nu, datatype='std::complex<double>')\n",
    "WaveformModes_NoSpin.AddDerivedConstant('hHat_4_0_0', 1/42, datatype='std::complex<double>')\n",
    "WaveformModes_NoSpin.AddDerivedConstant('hHat_4_0_2', (-(180101/1241856)+(27227*nu)/44352), datatype='std::complex<double>')\n",
    "WaveformModes_NoSpin.AddDerivedConstant('hHat_4_0_4', (2201411267/6657251328-(34829479*nu)/18162144+(844951*nu**2)/1153152), datatype='std::complex<double>')\n",
    "WaveformModes_NoSpin.AddDerivedConstant('hHat_4_0_5', (-((13565*pi)/51744)+(13565*pi*nu)/12936), datatype='std::complex<double>')\n",
    "WaveformModes_NoSpin.AddDerivedConstant('hHat_4_0_6', (15240463356751/32806934544384+(-(1029744557245/1171676233728)-(205*pi**2)/4032)*nu-(4174614175*nu**2)/1549836288+(221405645*nu**3)/498161664), datatype='std::complex<double>')\n",
    "# ell=5\n",
    "WaveformModes_NoSpin.AddDerivedConstant('hHat_5_5_6', -((36*delta*nu)/(5*sqrt(77))), datatype='std::complex<double>')\n",
    "WaveformModes_NoSpin.AddDerivedConstant('hHat_5_3_6', (4*delta*nu)/(27*sqrt(385)), datatype='std::complex<double>')\n",
    "WaveformModes_NoSpin.AddDerivedConstant('hHat_5_1_6', (52/21*sqrt(2/165)*delta*nu), datatype='std::complex<double>')\n",
    "# ell=6\n",
    "WaveformModes_NoSpin.AddDerivedConstant('hHat_6_0_0', 0, datatype='std::complex<double>')\n",
    "WaveformModes_NoSpin.AddDerivedConstant('hHat_6_0_2', (-(4195/(177408*sqrt(13)))+(215*nu)/(2112*sqrt(13))), datatype='std::complex<double>')\n",
    "WaveformModes_NoSpin.AddDerivedConstant('hHat_6_0_4', (4151051/(24385536*sqrt(13))-(253535*nu)/(266112*sqrt(13))+(17185*nu**2)/(12672*sqrt(13))), datatype='std::complex<double>')\n",
    "WaveformModes_NoSpin.AddDerivedConstant('hHat_6_0_5', (-((5*sqrt(13)*pi)/1848)+5/462*sqrt(13)*pi*nu), datatype='std::complex<double>')\n",
    "WaveformModes_NoSpin.AddDerivedConstant('hHat_6_0_6', (-(3012132889099/(6128767991808*sqrt(13)))+(27653500031*nu)/(8106835968*sqrt(13))-(941405305*nu**2)/(124084224*sqrt(13))+(17709755*nu**3)/(10340352*sqrt(13))), datatype='std::complex<double>')\n",
    "# ell=7\n",
    "# ell=8\n",
    "WaveformModes_NoSpin.AddDerivedConstant('hHat_8_0_0', 0, datatype='std::complex<double>')\n",
    "WaveformModes_NoSpin.AddDerivedConstant('hHat_8_0_2', 0, datatype='std::complex<double>')\n",
    "WaveformModes_NoSpin.AddDerivedConstant('hHat_8_0_4', (75601/(8895744*sqrt(17))-(25115*nu)/(494208*sqrt(17))+(3395*nu**2)/(41184*sqrt(17))), datatype='std::complex<double>')\n",
    "WaveformModes_NoSpin.AddDerivedConstant('hHat_8_0_6', (-(265361599/(3985293312*sqrt(17)))+(18177898147*nu)/(37860286464*sqrt(17))-(80280125*nu**2)/(75119616*sqrt(17))+(9677185*nu**3)/(12519936*sqrt(17))), datatype='std::complex<double>')"
   ]
  },
  {
   "cell_type": "markdown",
   "metadata": {},
   "source": [
    "Note that the Will & Wiseman paper uses the same notation as CQG 13 (1996) 575-584, which demonstrates the same results (to lower order) as arXiv:0802.1249v2 used above.  Thus, the conventions are compatible.  Additional 2pN terms come from Buonanno, Faye, and Hinderer arXiv:1209.6349v1.  The (2,2) mode is the same as the 2pN term appearing in Will & Wiseman."
   ]
  },
  {
   "cell_type": "code",
   "execution_count": 5,
   "metadata": {},
   "outputs": [],
   "source": [
    "# ell=0\n",
    "WaveformModes_Spin_Symm.AddDerivedVariable('hHat_spin_Symm_0_0_3',\n",
    "    ((14*S_ell)/(3*M**2)+(2*delta*Sigma_ell)/M**2),\n",
    "    datatype='std::complex<double>')\n",
    "WaveformModes_Spin_Symm.AddDerivedVariable('hHat_spin_Symm_0_0_4',\n",
    "    (-(4*delta*((S_ell*Sigma_ell+S_n*Sigma_n+S_lambda*Sigma_n)+2*S_ell*Sigma_ell))/(3*M**4)+(-16*(S_ell**2+S_n**2+S_lambda**2)-3*(Sigma_ell**2+Sigma_n**2+Sigma_lambda**2)-32*S_ell**2-9*Sigma_ell**2)/(12*M**4)+nu*((4*((Sigma_ell**2+Sigma_n**2+Sigma_lambda**2)+2*Sigma_ell**2))/(3*M**4))),\n",
    "    datatype='std::complex<double>')\n",
    "\n",
    "# ell=2\n",
    "WaveformModes_Spin_Asymm.AddDerivedVariable('hHat_spin_Asymm_2_1_3',\n",
    "    (-((61*(S_n-I*S_lambda))/(14*sqrt(30)*M**2))-(25*sqrt(15/2)*delta*(Sigma_n-I*Sigma_lambda))/(112*M**2)),\n",
    "    datatype='std::complex<double>')\n",
    "\n",
    "WaveformModes_Spin_Asymm.AddDerivedVariable('hHat_spin_Asymm_2_1_4',\n",
    "    ((sqrt(15/2)*delta*((S_n-I*S_lambda)*Sigma_ell+S_ell*(Sigma_n-I*Sigma_lambda)))/(14*M**4)+(sqrt(5/6)*(3*S_ell*(S_n-I*S_lambda)+Sigma_ell*(Sigma_n-I*Sigma_lambda)))/(7*M**4)-(sqrt(15/2)*nu*Sigma_ell*(Sigma_n-I*Sigma_lambda))/(7*M**4)),\n",
    "    datatype='std::complex<double>')\n",
    "\n",
    "WaveformModes_Spin_Symm.AddDerivedVariable('hHat_spin_Symm_2_0_3',\n",
    "    ((32*sqrt(5)*S_ell)/(21*M**2)+(419*delta*Sigma_ell)/(112*sqrt(5)*M**2)),\n",
    "    datatype='std::complex<double>')\n",
    "WaveformModes_Spin_Symm.AddDerivedVariable('hHat_spin_Symm_2_0_4',\n",
    "    (-(8*sqrt(5)*delta*((S_ell*Sigma_ell+S_n*Sigma_n+S_lambda*Sigma_lambda)+2*S_ell*Sigma_ell))/(21*M**4)-(sqrt(5)*(128*(S_ell**2+S_n**2+S_lambda**2)+24*(Sigma_ell**2+Sigma_n**2+Sigma_lambda**2)+256*S_ell**2+75*Sigma_ell**2))/(336*M**4)+nu*(((8*sqrt(5)*((Sigma_ell**2+Sigma_n**2+Sigma_lambda**2)+2*Sigma_ell**2))/(21*M**4)))),\n",
    "    datatype='std::complex<double>')\n",
    "WaveformModes_Spin_Symm.AddDerivedVariable('hHat_spin_Symm_2_0_5',\n",
    "    ((179869*sqrt(5)*S_ell)/(74088*M**2)+(289127*sqrt(5)*delta*Sigma_ell)/(790272*M**2)+nu*((319*sqrt(5)*S_ell)/(882*M**2)+(1775*sqrt(5)*delta*Sigma_ell)/(9408*M**2))),\n",
    "    datatype='std::complex<double>')\n",
    "WaveformModes_Spin_Symm.AddDerivedVariable('hHat_spin_Symm_2_0_6',\n",
    "    (delta*((23*sqrt(5)*pi*Sigma_ell)/(1344*M**2)+(173191*sqrt(5)*S_ell*Sigma_ell)/(56448*M**4))+(sqrt(5)*(63808*S_ell**2+99197*Sigma_ell**2))/(75264*M**4)+(nu**2*(31*sqrt(5)*Sigma_ell**2))/(42*M**4)+nu*(-((31*sqrt(5)*delta*S_ell*Sigma_ell)/(42*M**4))-(sqrt(5)*(20832*S_ell**2+142529*Sigma_ell**2))/(28224*M**4))),\n",
    "    datatype='std::complex<double>')\n",
    "WaveformModes_Spin_Symm.AddDerivedVariable('hHat_spin_Symm_2_0_7',\n",
    "    ((9724899179*sqrt(5)*S_ell)/(1056198528*M**2)+nu**2*(-((34739*sqrt(5)*S_ell)/(49896*M**2))-(66403*sqrt(5)*delta*Sigma_ell)/(177408*M**2))+(sqrt(5)*(36992*S_ell**3+22539*S_ell*Sigma_ell**2))/(1512*M**6)+(pi*(-(sqrt(5)*(3072*S_ell**2+779*Sigma_ell**2))))/(252*M**4)+delta*((14713254113*sqrt(5)*Sigma_ell)/(11266117632*M**2)-(256*sqrt(5)*pi*S_ell*Sigma_ell)/(21*M**4)+(sqrt(5)*(1605952*S_ell**2*Sigma_ell+106463*Sigma_ell**3))/(48384*M**6))+nu*(-((53090267*sqrt(5)*S_ell)/(2095632*M**2))-(1603*sqrt(5)*S_ell*Sigma_ell**2)/(27*M**6)+pi*(+((256*sqrt(5)*Sigma_ell**2)/(21*M**4)))+delta*(-((66021037*sqrt(5)*Sigma_ell)/(5588352*M**2))-(733*sqrt(5)*Sigma_ell**3)/(84*M**6)))),\n",
    "    datatype='std::complex<double>')\n",
    "\n",
    "# ell=3\n",
    "WaveformModes_Spin_Symm.AddDerivedVariable('hHat_spin_Symm_3_3_7',\n",
    "    (-((8*x**(7/2)*nu*Sigma_ell)/(3*sqrt(35)*M**2))),\n",
    "    datatype='std::complex<double>')\n",
    "WaveformModes_Spin_Symm.AddDerivedVariable('hHat_spin_Symm_3_1_7',\n",
    "    (-((8*sqrt(3/7)*x**(7/2)*nu*Sigma_ell)/(5*M**2))),\n",
    "    datatype='std::complex<double>')\n",
    "\n",
    "# ell=4\n",
    "WaveformModes_Spin_Asymm.AddDerivedVariable('hHat_spin_Asymm_4_1_3',\n",
    "    (-((13*(S_n-I*S_lambda))/(56*sqrt(5)*M**2))-(17*delta*(Sigma_n-I*Sigma_lambda))/(84*sqrt(5)*M**2)),\n",
    "    datatype='std::complex<double>')\n",
    "\n",
    "WaveformModes_Spin_Asymm.AddDerivedVariable('hHat_spin_Asymm_4_1_4',\n",
    "    ((sqrt(5)*delta*((S_n-I*S_lambda)*Sigma_ell+S_ell*(Sigma_n-I*Sigma_lambda)))/(168*M**4)+(sqrt(5)*(3*S_ell*(S_n-I*S_lambda)+Sigma_ell*(Sigma_n-I*Sigma_lambda)))/(252*M**4)-(sqrt(5)*nu*Sigma_ell*(Sigma_n-I*Sigma_lambda))/(84*M**4)),\n",
    "    datatype='std::complex<double>')\n",
    "\n",
    "WaveformModes_Spin_Symm.AddDerivedVariable('hHat_spin_Symm_4_0_3',\n",
    "    ((5*S_ell)/(21*M**2)+(19*delta*Sigma_ell)/(112*M**2)),\n",
    "    datatype='std::complex<double>')\n",
    "WaveformModes_Spin_Symm.AddDerivedVariable('hHat_spin_Symm_4_0_4',\n",
    "    (-(2*delta*((S_ell*Sigma_ell+S_n*Sigma_n+S_lambda*Sigma_lambda)+2*S_ell*Sigma_ell))/(63*M**4)+(-4*(16*(S_ell**2+S_n**2+S_lambda**2)+3*(Sigma_ell**2+Sigma_n**2+Sigma_lambda**2)+32*S_ell**2)-41*Sigma_ell**2)/(2016*M**4)+nu*((2*((Sigma_ell**2+Sigma_n**2+Sigma_lambda**2)+2*Sigma_ell**2))/(63*M**4))),\n",
    "    datatype='std::complex<double>')\n",
    "WaveformModes_Spin_Symm.AddDerivedVariable('hHat_spin_Symm_4_0_5',\n",
    "    (-((626077*S_ell)/(724416*M**2))-(179791*delta*Sigma_ell)/(271656*M**2)+nu*((989419*S_ell)/(232848*M**2)+(361055*delta*Sigma_ell)/(155232*M**2))),\n",
    "    datatype='std::complex<double>')\n",
    "WaveformModes_Spin_Symm.AddDerivedVariable('hHat_spin_Symm_4_0_6',\n",
    "    (delta*((25*pi*Sigma_ell)/(4032*M**2)+(1303525*S_ell*Sigma_ell)/(620928*M**4))+((1380815*S_ell**2)/931392+(352565*Sigma_ell**2)/516096)/M**4+(nu**2*(26435*Sigma_ell**2))/(11088*M**4)+nu*(-((26435*delta*S_ell*Sigma_ell)/(11088*M**4))-(5*(4737152*S_ell**2+6517253*Sigma_ell**2))/(9934848*M**4))),\n",
    "    datatype='std::complex<double>')\n",
    "WaveformModes_Spin_Symm.AddDerivedVariable('hHat_spin_Symm_4_0_7',\n",
    "    ((348470641109*S_ell)/(329533940736*M**2)+nu**2*((4773259*S_ell)/(5189184*M**2)+(5099915*delta*Sigma_ell)/(6918912*M**2))+(11776*S_ell**3+2887*S_ell*Sigma_ell**2)/(9072*M**6)+(pi*(-768*S_ell**2-193*Sigma_ell**2))/(756*M**4)+delta*((25969272883*Sigma_ell)/(39943507968*M**2)-(64*pi*S_ell*Sigma_ell)/(63*M**4)+((2971*S_ell**2*Sigma_ell)/2268-(55*Sigma_ell**3)/6912)/M**6)+nu*(-((712823899*S_ell)/(163459296*M**2))-(109*S_ell*Sigma_ell**2)/(81*M**6)+(pi*(64*Sigma_ell**2))/(63*M**4)+delta*(-((160373197*Sigma_ell)/(32288256*M**2))-Sigma_ell**3/(84*M**6)))),\n",
    "    datatype='std::complex<double>')\n",
    "\n",
    "# ell=6\n",
    "WaveformModes_Spin_Symm.AddDerivedVariable('hHat_spin_Symm_6_0_5',\n",
    "    (-((373355*S_ell)/(931392*sqrt(13)*M**2))-(407135*delta*Sigma_ell)/(1241856*sqrt(13)*M**2)+nu*((19135*S_ell)/(11088*sqrt(13)*M**2)+(16655*delta*Sigma_ell)/(14784*sqrt(13)*M**2))),\n",
    "    datatype='std::complex<double>')\n",
    "WaveformModes_Spin_Symm.AddDerivedVariable('hHat_spin_Symm_6_0_6',\n",
    "    ((8005*delta*S_ell*Sigma_ell)/(44352*sqrt(13)*M**4)+(5*(156544*S_ell**2+76263*Sigma_ell**2))/(5677056*sqrt(13)*M**4)+(nu**2*(215*Sigma_ell**2))/(528*sqrt(13)*M**4)+nu*(-((215*delta*S_ell*Sigma_ell)/(528*sqrt(13)*M**4))-(5*(115584*S_ell**2+99175*Sigma_ell**2))/(1419264*sqrt(13)*M**4))),\n",
    "    datatype='std::complex<double>')\n",
    "WaveformModes_Spin_Symm.AddDerivedVariable('hHat_spin_Symm_6_0_7',\n",
    "    ((1986903733*S_ell)/(1207084032*sqrt(13)*M**2)+(106983697*delta*Sigma_ell)/(73156608*sqrt(13)*M**2)+nu*(-((10654115*S_ell)/(1197504*sqrt(13)*M**2))-(7026595*delta*Sigma_ell)/(1064448*sqrt(13)*M**2))+nu**2*((198335*S_ell)/(19008*sqrt(13)*M**2)+(10165*delta*Sigma_ell)/(1584*sqrt(13)*M**2))),\n",
    "    datatype='std::complex<double>')\n",
    "\n",
    "# ell=8\n",
    "WaveformModes_Spin_Symm.AddDerivedVariable('hHat_spin_Symm_8_0_7',\n",
    "    ((7786903*S_ell)/(40030848*sqrt(17)*M**2)+(9147661*delta*Sigma_ell)/(53374464*sqrt(17)*M**2)+nu*(-((2586845*S_ell)/(2223936*sqrt(17)*M**2))-(2640475*delta*Sigma_ell)/(2965248*sqrt(17)*M**2))+nu**2*((349685*S_ell)/(185328*sqrt(17)*M**2)+(99085*delta*Sigma_ell)/(82368*sqrt(17)*M**2))),\n",
    "    datatype='std::complex<double>')"
   ]
  },
  {
   "cell_type": "markdown",
   "metadata": {},
   "source": [
    "We automatically find the largest $\\ell$ value above, so that we don't need to remember to redefine it when adding new terms:"
   ]
  },
  {
   "cell_type": "code",
   "execution_count": 6,
   "metadata": {},
   "outputs": [],
   "source": [
    "import re\n",
    "ellRE = re.compile(r'.*?_(?P<ell>[0-9]*)_.*')\n",
    "ellMax = max([int(ellRE.search(val).group('ell'))\n",
    "              for Terms in [WaveformModes_NoSpin, WaveformModes_Spin_Symm, WaveformModes_Spin_Asymm]\n",
    "              for key,val in Terms.items()\n",
    "              if ellRE.match(val)\n",
    "              ])"
   ]
  },
  {
   "cell_type": "markdown",
   "metadata": {},
   "source": [
    "# Collected terms"
   ]
  },
  {
   "cell_type": "code",
   "execution_count": 7,
   "metadata": {},
   "outputs": [],
   "source": [
    "def SymmetricWaveformModes(LM=[2,0], WaveformModeTerms=[WaveformModes_NoSpin, WaveformModes_Spin_Symm], PNOrder=frac(7,2)):\n",
    "    if(LM[1]<0) :\n",
    "        return (-1)**LM[0]*conjugate(SymmetricWaveformModes([LM[0],-LM[1]], WaveformModeTerms, PNOrder)).simplify()\n",
    "    # We have to play some tricks with the log terms so that `horner` works\n",
    "    def logterm(key,val):\n",
    "        if 'lnv' in val:\n",
    "            return logv\n",
    "        else:\n",
    "            return 1\n",
    "    return rhOverM_coeff*horner(sum([key*(v**n)*logterm(key,val)\n",
    "                                     for Terms in WaveformModeTerms\n",
    "                                     for n in range(2*PNOrder+1)\n",
    "                                     for key,val in Terms.items()\n",
    "                                     if (val.endswith('_{0}'.format(n))\n",
    "                                         and '_{0}_{1}_'.format(LM[0],LM[1]) in val)])).subs(logv, ln(v))"
   ]
  },
  {
   "cell_type": "code",
   "execution_count": 8,
   "metadata": {},
   "outputs": [],
   "source": [
    "def AsymmetricWaveformModes(LM=[2,0], PNOrder=frac(7,2)):\n",
    "    if(LM[1]<0) :\n",
    "        return (-1)**(LM[0]+1)*conjugate(AsymmetricWaveformModes([LM[0],-LM[1]], PNOrder)).simplify()\n",
    "    # We have to play some tricks with the log terms so that `horner` works\n",
    "    def logterm(key,val):\n",
    "        if 'lnv' in val:\n",
    "            return logv\n",
    "        else:\n",
    "            return 1\n",
    "    return rhOverM_coeff*horner(sum([key*(v**n)*logterm(key,val)\n",
    "                                     for n in range(2*PNOrder+1)\n",
    "                                     for key,val in WaveformModes_Spin_Asymm.items()\n",
    "                                     if (val.endswith('_{0}'.format(n))\n",
    "                                         and '_{0}_{1}_'.format(LM[0],LM[1]) in val)])).subs(logv, ln(v))"
   ]
  },
  {
   "cell_type": "code",
   "execution_count": 9,
   "metadata": {},
   "outputs": [],
   "source": [
    "# display(SymmetricWaveformModes(PNOrder=frac(8,2)))"
   ]
  },
  {
   "cell_type": "code",
   "execution_count": 10,
   "metadata": {},
   "outputs": [],
   "source": [
    "# display(SymmetricWaveformModes([2,1], PNOrder=frac(8,2)))"
   ]
  },
  {
   "cell_type": "code",
   "execution_count": 11,
   "metadata": {},
   "outputs": [],
   "source": [
    "# display(AsymmetricWaveformModes(PNOrder=frac(8,2)))"
   ]
  },
  {
   "cell_type": "code",
   "execution_count": 12,
   "metadata": {},
   "outputs": [],
   "source": [
    "# display(AsymmetricWaveformModes([2,1], PNOrder=frac(8,2)))"
   ]
  }
 ],
 "metadata": {
  "kernelspec": {
   "display_name": "Python 3 (ipykernel)",
   "language": "python",
   "name": "python3"
  },
  "language_info": {
   "codemirror_mode": {
    "name": "ipython",
    "version": 3
   },
   "file_extension": ".py",
   "mimetype": "text/x-python",
   "name": "python",
   "nbconvert_exporter": "python",
   "pygments_lexer": "ipython3",
   "version": "3.9.12"
  }
 },
 "nbformat": 4,
 "nbformat_minor": 1
}
