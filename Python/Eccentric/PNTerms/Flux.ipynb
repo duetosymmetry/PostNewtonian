{
 "cells": [
  {
   "cell_type": "code",
   "execution_count": 1,
   "metadata": {
    "jupyter": {
     "outputs_hidden": false
    }
   },
   "outputs": [
    {
     "name": "stderr",
     "output_type": "stream",
     "text": [
      "/home/dzsun/miniconda3/lib/python3.9/site-packages/IPython/nbformat.py:12: ShimWarning: The `IPython.nbformat` package has been deprecated since IPython 4.0. You should import from nbformat instead.\n",
      "  warn(\"The `IPython.nbformat` package has been deprecated since IPython 4.0. \"\n"
     ]
    }
   ],
   "source": [
    "# Always run this first\n",
    "# NOTE: Do not define new basic variables in this notebook;\n",
    "#       define them in Variables_Q.ipynb.  Use this notebook\n",
    "#       to define new expressions built from those variables.\n",
    "\n",
    "from __future__ import division # This needs to be here, even though it's in Variables_Q.ipynb\n",
    "import sys\n",
    "sys.path.insert(0, '..') # Look for modules in directory above this one\n",
    "execfile('../Utilities/ExecNotebook.ipy')\n",
    "try: execnotebook(VariablesNotebook)\n",
    "except: execnotebook('Variables_Q.ipynb')"
   ]
  },
  {
   "cell_type": "markdown",
   "metadata": {},
   "source": [
    "The following `PNCollection` objects will contain all the terms in the different parts of the flux."
   ]
  },
  {
   "cell_type": "code",
   "execution_count": 2,
   "metadata": {
    "jupyter": {
     "outputs_hidden": false
    }
   },
   "outputs": [],
   "source": [
    "Flux_NoSpin = PNCollection()\n",
    "Flux_Spin = PNCollection()\n",
    "Flux_EccNoSpin = PNCollection()\n",
    "Flux_NSTides = PNCollection()"
   ]
  },
  {
   "cell_type": "markdown",
   "metadata": {},
   "source": [
    "# Individual flux terms"
   ]
  },
  {
   "cell_type": "markdown",
   "metadata": {},
   "source": [
    "In this notebook, every term will be multiplied by the following coefficient."
   ]
  },
  {
   "cell_type": "code",
   "execution_count": 3,
   "metadata": {
    "jupyter": {
     "outputs_hidden": false
    }
   },
   "outputs": [],
   "source": [
    "Flux_NoSpin.AddDerivedVariable('Fcal_coeff', frac(32,5)*nu**2*v**10)\n",
    "Flux_EccNoSpin.AddDerivedVariable('Fecc_coeff', frac(157,24)*e_i**2.0*v_i**(19/3)/v**(19/3))"
   ]
  },
  {
   "cell_type": "markdown",
   "metadata": {},
   "source": [
    "Note that fractions need to be entered as, e.g., `frac(32,5)` so that they are not converted to finite-precision decimals."
   ]
  },
  {
   "cell_type": "markdown",
   "metadata": {},
   "source": [
    "The nonspinning flux terms are complete to 3.5pN order.  These terms are given by Eq. (231) of [Blanchet (2006)](http://www.livingreviews.org/lrr-2006-4).\n",
    "\n",
    "The higher-order terms are only known in the EMRI limit.  These terms are given in Appendix A of [Fujita (2012)](http://arxiv.org/abs/1211.5535v1).  He computed them up to 22pN.  That seems like overkill, so we'll just go up to 6pN."
   ]
  },
  {
   "cell_type": "code",
   "execution_count": 4,
   "metadata": {
    "jupyter": {
     "outputs_hidden": false
    }
   },
   "outputs": [],
   "source": [
    "Flux_NoSpin.AddDerivedConstant('Fcal_0', 1.0)\n",
    "# Fcal_1 is 0\n",
    "Flux_NoSpin.AddDerivedConstant('Fcal_2', -frac(1247,336) - frac(35,12)*nu)\n",
    "Flux_NoSpin.AddDerivedConstant('Fcal_3', 4*pi)\n",
    "Flux_NoSpin.AddDerivedConstant('Fcal_4', -frac(44711,9072) + frac(9271,504)*nu + frac(65,18)*nu**2)\n",
    "Flux_NoSpin.AddDerivedConstant('Fcal_5', (-frac(8191,672) - frac(583,24)*nu)*pi)\n",
    "Flux_NoSpin.AddDerivedConstant('Fcal_6',\n",
    "    frac(6643739519,69854400) + frac(16,3)*pi**2 - EulerGamma*frac(1712,105) - frac(1712,105)*ln(4)\n",
    "    + (-frac(134543,7776) + frac(41,48)*pi**2)*nu - frac(94403,3024)*nu**2 - frac(775,324)*nu**3)\n",
    "Flux_NoSpin.AddDerivedConstant('Fcal_lnv_6', - frac(1712,105))\n",
    "Flux_NoSpin.AddDerivedConstant('Fcal_7', (-frac(16285,504) + frac(214745,1728)*nu + frac(193385,3024)*nu**2)*pi)\n",
    "\n",
    "# The following are only partially known\n",
    "Flux_NoSpin.AddDerivedConstant('Fcal_8',\n",
    "    - 1369*pi**2/126 - frac(323105549467,3178375200) - 47385*log(3)/1568 + 232597*EulerGamma/4410 + 39931*log(2)/294)\n",
    "Flux_NoSpin.AddDerivedConstant('Fcal_lnv_8', frac(232597,4410))\n",
    "Flux_NoSpin.AddDerivedConstant('Fcal_9',\n",
    "    - 13696*pi*log(2)/105 - 6848*EulerGamma*pi/105 + 265978667519*pi/745113600)\n",
    "Flux_NoSpin.AddDerivedConstant('Fcal_lnv_9', -6848*pi/105)\n",
    "Flux_NoSpin.AddDerivedConstant('Fcal_10',\n",
    "    - frac(2500861660823683,2831932303200) - 424223*pi**2/6804 - 83217611*log(2)/1122660\n",
    "    + 916628467*EulerGamma/7858620 + 47385*log(3)/196)\n",
    "Flux_NoSpin.AddDerivedConstant('Fcal_lnv_10', frac(916628467,7858620))\n",
    "Flux_NoSpin.AddDerivedConstant('Fcal_11',\n",
    "    - 142155*pi*log(3)/784 + 8399309750401*pi/101708006400 + 177293*EulerGamma*pi/1176 + 8521283*pi*log(2)/17640)\n",
    "Flux_NoSpin.AddDerivedConstant('Fcal_lnv_11', 177293*pi/1176)\n",
    "Flux_NoSpin.AddDerivedConstant('Fcal_12',\n",
    "    - 271272899815409*log(2)/157329572400\n",
    "    - 54784*pi**2*log(2)/315 - 246137536815857*EulerGamma/157329572400 - 437114506833*log(3)/789268480 - 256*pi**4/45\n",
    "    - 27392*EulerGamma*pi**2/315 - 27392*zeta(3)/105 - 37744140625*log(5)/260941824 + 1465472*EulerGamma**2/11025\n",
    "    + 5861888*EulerGamma*log(2)/11025 + 5861888*log(2)**2/11025 + frac(2067586193789233570693,602387400044430000)\n",
    "    + 3803225263*pi**2/10478160)\n",
    "Flux_NoSpin.AddDerivedConstant('Fcal_lnv_12',\n",
    "    - frac(246137536815857,157329572400) - 27392*pi**2/315\n",
    "    + 2930944*EulerGamma/11025 + 5861888*log(2)/11025)\n",
    "Flux_NoSpin.AddDerivedConstant('Fcal_lnv2_12', frac(1465472,11025))\n",
    "Flux_EccNoSpin.AddDerivedConstant('Fecc_0', 1.0+(frac(2833,1008)-frac(197,36)*nu)*v_i**2)\n",
    "Flux_EccNoSpin.AddDerivedConstant('Fecc_2', -frac(67387,22608)-frac(6355,5652)*nu)"
   ]
  },
  {
   "cell_type": "markdown",
   "metadata": {},
   "source": [
    "The spin-squared terms (by which I mean both spin-spin and spin-orbit squared terms) in the flux are known only at 2pN order (from [Kidder (1995)](http://link.aps.org/doi/10.1103/PhysRevD.52.821) and [Will and Wiseman (1996)](http://link.aps.org/doi/10.1103/PhysRevD.54.4813)).  They are most conveniently given in Eq. (C10) of [Arun et al.](http://arxiv.org/abs/0810.5336v3)"
   ]
  },
  {
   "cell_type": "code",
   "execution_count": 5,
   "metadata": {
    "jupyter": {
     "outputs_hidden": false
    }
   },
   "outputs": [],
   "source": [
    "Flux_Spin.AddDerivedVariable('Fcal_SQ_4', horner( (\n",
    "    (frac(287,96) + nu/24)*(chi_s_ell)**2 - (frac(89,96) + frac(7,24)*nu)*(chi1chi1+2*chi1chi2+chi2chi2)/4\n",
    "    + (frac(287,96) - 12*nu)*(chi_a_ell)**2 + (-frac(89,96) + 4*nu)*(chi1chi1-2*chi1chi2+chi2chi2)/4\n",
    "    + frac(287,48)*delta*chi_s_ell*chi_a_ell\n",
    "    - frac(89,48)*delta*(chi1chi1-chi2chi2)/4) .expand().simplify()))"
   ]
  },
  {
   "cell_type": "markdown",
   "metadata": {},
   "source": [
    "The spin-orbit terms in the flux are now known to 4.0pN.  These terms come from Eq. (4.9) of [Marsat et al. (2013)](http://arxiv.org/abs/1307.6793v1):"
   ]
  },
  {
   "cell_type": "code",
   "execution_count": 6,
   "metadata": {
    "jupyter": {
     "outputs_hidden": false
    }
   },
   "outputs": [],
   "source": [
    "Flux_Spin.AddDerivedVariable('Fcal_SO_3', (-4*S_ell - frac(5,4)*delta*Sigma_ell)/M**2)\n",
    "# Fcal_SO_4 is 0\n",
    "Flux_Spin.AddDerivedVariable('Fcal_SO_5',\n",
    "    ((-frac(9,2)+frac(272,9)*nu)*S_ell + (-frac(13,16)+frac(43,4)*nu)*delta*Sigma_ell)/M**2)\n",
    "Flux_Spin.AddDerivedVariable('Fcal_SO_6', ((-16*pi)*S_ell + (-frac(31,6)*pi)*delta*Sigma_ell)/M**2)\n",
    "Flux_Spin.AddDerivedVariable('Fcal_SO_7', ((frac(476645,6804)+frac(6172,189)*nu-frac(2810,27)*nu**2)*S_ell\n",
    "    + (frac(9535,336)+frac(1849,126)*nu-frac(1501,36)*nu**2)*delta*Sigma_ell)/M**2)\n",
    "Flux_Spin.AddDerivedVariable('Fcal_SO_8', ((-frac(3485,96)+frac(13879,72)*nu)*pi*S_ell\n",
    "    + (-frac(7163,672)+frac(130583,2016)*nu)*pi*delta*Sigma_ell)/M**2)"
   ]
  },
  {
   "cell_type": "markdown",
   "metadata": {},
   "source": [
    "The tidal-coupling terms come in to the energy at relative 5pN order, and are known partially at 6pN order.\n",
    "\n",
    "These terms come from Eq. (3.6) of [Vines et al. (2011)](http://prd.aps.org/abstract/PRD/v83/i8/e084051).  Note their unusual convention for mass ratios, where $\\chi_1 = m_1/m$ in their notation; in particular, $\\chi$ is not a spin parameter.  Also note that $\\hat{\\lambda} = \\lambda_2 v^{10}/(m_1+m_2)^5$, and we need to add the coupling terms again with $1 \\leftrightarrow 2$.  Finally, note the normalization difference, where a different overall factor is used, leading to a sign difference."
   ]
  },
  {
   "cell_type": "code",
   "execution_count": 7,
   "metadata": {
    "jupyter": {
     "outputs_hidden": false
    }
   },
   "outputs": [],
   "source": [
    "Flux_NSTides.AddDerivedConstant('Fcal_NSTides_10', ((12-18*M/M2)*lambda2 + (12-18*M/M1)*lambda1)/M**5)\n",
    "# Fcal_NSTides_11 is 0\n",
    "Flux_NSTides.AddDerivedConstant('Fcal_NSTides_12',\n",
    "    ((704+1803*M2/M-4501*(M2/M)**2+2170*(M2/M)**3)*lambda2/(28*M2/M)\n",
    "     + (704+1803*M1/M-4501*(M1/M)**2+2170*(M1/M)**3)*lambda1/(28*M1/M))/M**5)"
   ]
  },
  {
   "cell_type": "markdown",
   "metadata": {},
   "source": [
    "# Collected flux terms"
   ]
  },
  {
   "cell_type": "code",
   "execution_count": 18,
   "metadata": {
    "jupyter": {
     "outputs_hidden": false
    }
   },
   "outputs": [],
   "source": [
    "def FluxExpression(FluxTerms=[Flux_NoSpin, Flux_Spin, Flux_EccNoSpin], PNOrder=frac(7,2)):\n",
    "    # We have to play some tricks with the log terms so that `horner` works\n",
    "    def logterm(key,val):\n",
    "        if 'lnv2' in val:\n",
    "            return logv**2\n",
    "        if 'lnv' in val:\n",
    "            return logv\n",
    "        else:\n",
    "            return 1\n",
    "    result = Fcal_coeff*horner(sum([key*(v**n)*logterm(key,val)\n",
    "                                  for Terms in FluxTerms[0:2]\n",
    "                                  for n in range(2*PNOrder+1)\n",
    "                                  for key,val in Terms.items()\n",
    "                                  if val.endswith('_{0}'.format(n))])).subs(logv, ln(v))\n",
    "    return result+Fcal_coeff*Fecc_coeff*horner(sum([key*(v**n)*logterm(key,val)\n",
    "                                  for Terms in [FluxTerms[-1]]\n",
    "                                  for n in range(2*PNOrder+1)\n",
    "                                  for key,val in Terms.items()\n",
    "                                  if val.endswith('_{0}'.format(n))])).subs(logv, ln(v))"
   ]
  },
  {
   "cell_type": "code",
   "execution_count": 19,
   "metadata": {
    "jupyter": {
     "outputs_hidden": false
    }
   },
   "outputs": [
    {
     "data": {
      "image/png": "[encoded data removed]",
      "text/latex": [
       "$\\displaystyle Ecc_{coeff} \\mathcal{F}_{coeff} \\left(Ecc_{0} + Ecc_{2} v^{2}\\right) + \\mathcal{F}_{coeff} \\left(\\mathcal{F}_{0} + v^{2} \\left(\\mathcal{F}_{2} + v \\left(\\mathcal{F}_{3} + \\mathcal{F}_{SO 3} + v \\left(\\mathcal{F}_{4} + \\mathcal{F}_{SQ 4} + v \\left(\\mathcal{F}_{5} + \\mathcal{F}_{SO 5} + v \\left(\\mathcal{F}_{6} + \\mathcal{F}_{SO 6} + \\mathcal{F}_{lnv 6} \\log{\\left(v \\right)} + v \\left(\\mathcal{F}_{7} + \\mathcal{F}_{SO 7}\\right)\\right)\\right)\\right)\\right)\\right)\\right)$"
      ],
      "text/plain": [
       "                     ⎛             2⎞              ⎛         2                                                        \n",
       "Ecc_coeff⋅Fcal_coeff⋅⎝Ecc₀ + Ecc₂⋅v ⎠ + Fcal_coeff⋅⎝Fcal₀ + v ⋅(Fcal₂ + v⋅(Fcal₃ + Fcal_SO_3 + v⋅(Fcal₄ + Fcal_SQ_4 + \n",
       "\n",
       "                                                                                           ⎞\n",
       "v⋅(Fcal₅ + Fcal_SO_5 + v⋅(Fcal₆ + Fcal_SO_6 + Fcalₗₙᵥ ₆⋅log(v) + v⋅(Fcal₇ + Fcal_SO_7))))))⎠"
      ]
     },
     "metadata": {},
     "output_type": "display_data"
    }
   ],
   "source": [
    "#display(FluxExpression())"
   ]
  },
  {
   "cell_type": "code",
   "execution_count": null,
   "metadata": {},
   "outputs": [],
   "source": []
  }
 ],
 "metadata": {
  "kernelspec": {
   "display_name": "Python 3 (ipykernel)",
   "language": "python",
   "name": "python3"
  },
  "language_info": {
   "codemirror_mode": {
    "name": "ipython",
    "version": 3
   },
   "file_extension": ".py",
   "mimetype": "text/x-python",
   "name": "python",
   "nbconvert_exporter": "python",
   "pygments_lexer": "ipython3",
   "version": "3.9.13"
  }
 },
 "nbformat": 4,
 "nbformat_minor": 4
}
