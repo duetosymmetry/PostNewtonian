{
 "cells": [
  {
   "cell_type": "markdown",
   "metadata": {},
   "source": [
    "This notebook collects algorithms for evolving or evaluating (in nonprecessing cases) the orbital evolution of the PN system.  The primary approximants are denoted TaylorT$n$ for $n \\in [1,5]$.  \"Taylor\" means that they are Taylor series (as opposed to Padé), \"T\" means that they are in the time domain (as opposed to frequency), and $n$ just numbers the order in which they were established in the literature.  The other important approximant is TaylorF2, which is based on TaylorT2, but is in the frequency domain."
   ]
  },
  {
   "cell_type": "code",
   "execution_count": 1,
   "metadata": {},
   "outputs": [
    {
     "name": "stderr",
     "output_type": "stream",
     "text": [
      "/home/dzsun/miniconda3/lib/python3.9/site-packages/IPython/nbformat.py:12: ShimWarning: The `IPython.nbformat` package has been deprecated since IPython 4.0. You should import from nbformat instead.\n",
      "  warn(\"The `IPython.nbformat` package has been deprecated since IPython 4.0. \"\n"
     ]
    }
   ],
   "source": [
    "# Always run this first\n",
    "# NOTE: Do not define new basic variables in this notebook;\n",
    "#       define them in Variables_Q.ipynb.  Use this notebook\n",
    "#       to define new expressions built from those variables.\n",
    "\n",
    "import sympy\n",
    "from sympy import *\n",
    "from __future__ import division # This needs to be here, even though it's in Variables_Q.ipynb\n",
    "import sys\n",
    "sys.path.insert(0, '..') # Look for modules in directory above this one\n",
    "import pickle\n",
    "execfile('../Utilities/ExecNotebook.ipy')\n",
    "try:\n",
    "    UseQuaternions\n",
    "    VariablesNotebook = 'Variables_Q.ipynb' if UseQuaternions else 'Variables_Q.ipynb'\n",
    "except:\n",
    "    UseQuaternions = False\n",
    "    VariablesNotebook = 'Variables_Q.ipynb'\n",
    "execnotebook(VariablesNotebook)\n",
    "from Utilities import CodeOutput"
   ]
  },
  {
   "cell_type": "markdown",
   "metadata": {},
   "source": [
    "Here, we set the PN order, if it is not already set.  This will be used in numerous places below.  This is the exponent of the largest power of $x$, or half the exponent of the largest power of $v$ that will appear beyond leading orders in the various quantities.  Note that, because of python's convention that intervals are half-open at the end, most occurrences of `PNOrbitalEvolutionOrder` in the code will have 1 added to them; the actual value of `PNOrbitalEvolutionOrder` will be what we normally expect."
   ]
  },
  {
   "cell_type": "code",
   "execution_count": 2,
   "metadata": {},
   "outputs": [],
   "source": [
    "if 'PNOrbitalEvolutionOrder' not in globals():\n",
    "    PNOrbitalEvolutionOrder = frac(7,2)"
   ]
  },
  {
   "cell_type": "markdown",
   "metadata": {},
   "source": [
    "# TaylorT1, TaylorT4, and TaylorT5*"
   ]
  },
  {
   "cell_type": "markdown",
   "metadata": {},
   "source": [
    "These very similar approximants are the simplest in construction, and most widely applicable.  In particular, they can both be applied to precessing systems.  Each gives rise to the same system of ODEs that need to be integrated in time, except that the right-hand side for $dv/dt$ is expanded as a series in $v$ and truncated for TaylorT4.  TaylorT5 extends that simply.\n",
    "\n",
    "\n",
    "***** The version of TaylorT5 output below is slightly different from the one introduced by Ajith.  He further solved analytically for the orbital phase $\\Phi$ in terms of $v$.  This doesn't appear to be possible in the precessing case, since terms such as $\\vec{\\Sigma} \\cdot \\hat{L}_{\\text{N}}$ now vary with $v$ in nontrivial ways; I believe uses of T5 for precessing systems assume that such terms are constant.  Besides, we have 11 variables to integrate in addition to $\\Phi$, so it's not much extra burden to integrate it too.  For nonprecessing systems, similar code could be generated for the non-precessing case using Ajith's solution for $\\Phi$; the value of `y[1]` would have to be reset explicitly at the top of the `TaylorT4RHS` function emitted below."
   ]
  },
  {
   "cell_type": "markdown",
   "metadata": {},
   "source": [
    "First, we collect the various expressions from other notebooks:"
   ]
  },
  {
   "cell_type": "code",
   "execution_count": 3,
   "metadata": {},
   "outputs": [],
   "source": [
    "execnotebook('BindingEnergy.ipynb')\n",
    "execnotebook('EnergyAbsorption.ipynb')\n",
    "execnotebook('Precession.ipynb')"
   ]
  },
  {
   "cell_type": "markdown",
   "metadata": {},
   "source": [
    "Next, we calculate the expansions needed for TaylorT4 and T5.  These will be the right-hand sides in our evolution equations for $dv/dt$.  TaylorT1 simply numerically evaluates a ratio of the terms imported above"
   ]
  },
  {
   "cell_type": "code",
   "execution_count": 4,
   "metadata": {},
   "outputs": [
    {
     "name": "stdout",
     "output_type": "stream",
     "text": [
      "WARNING: Absorption term in EnergyAbsorption.ipynb temporarily disabled.\n"
     ]
    }
   ],
   "source": [
    "# Read in the high-order series expansion of a ratio of polynomials\n",
    "with open('PolynomialRatios/PolynomialRatioSeries_Order{0}.dat'.format(2*PNOrbitalEvolutionOrder+1), 'rb') as fff:\n",
    "    p_Ratio = pickle.load(fff)\n",
    "#display(p_Ratio)\n",
    "p_Ratio = (p_Ratio.removeO()).subs('PolynomialVariable',v)\n",
    "#display(p_Ratio)\n",
    "\n",
    "#p_Ratio = pickle.load(file('PolynomialRatios/PolynomialRatioSeries_Order{0}.dat'.format(2*PNOrbitalEvolutionOrder+1)))\n",
    "#p_Ratio = p_Ratio.removeO().subs('PolynomialVariable',v)\n",
    "\n",
    "# Evaluate the flux, energy, and derivative of energy\n",
    "FluxTerms = [Flux_NoSpin, Flux_Spin, Flux_EccNoSpin]\n",
    "BindingEnergyTerms = [BindingEnergy_NoSpin, BindingEnergy_Spin, BindingEnergy_EccNoSpin]\n",
    "for Term in FluxTerms:\n",
    "    PNVariables.update(Term)\n",
    "for Term in BindingEnergyTerms:\n",
    "    PNVariables.update(Term)\n",
    "Flux = FluxExpression(FluxTerms, PNOrbitalEvolutionOrder)\n",
    "Energy = BindingEnergyExpression(BindingEnergyTerms, PNOrbitalEvolutionOrder)\n",
    "dEdV = BindingEnergyDerivativeExpression(BindingEnergyTerms, PNOrbitalEvolutionOrder)\n",
    "\n",
    "# Evaluate the energy absorption by the BHs, and make substitutions so that the Horner form is nice\n",
    "AbsorptionTerms = [AlviTerms]\n",
    "for Term in AbsorptionTerms:\n",
    "    PNVariables.update(Term)\n",
    "Absorption = AbsorptionExpression(AbsorptionTerms, PNOrbitalEvolutionOrder)\n",
    "\n",
    "# Treat remaining log(v) terms as constants, for Taylor expansions and efficient numerical evaluation\n",
    "Flux = Flux.subs(log(v), logv)\n",
    "Energy = Energy.subs(log(v), logv)\n",
    "dEdV = dEdV.subs(log(v), logv)\n",
    "Absorption = Absorption.subs(log(v), logv)\n",
    "\n",
    "# Get the series expansions for the numerators and denominators\n",
    "FluxSeries = series(- (Flux + Absorption)/Fcal_coeff, x=v, x0=0, n=2*PNOrbitalEvolutionOrder+1).removeO()\n",
    "dEdVSeries = series(dEdV/(-nu*v/2), x=v, x0=0, n=2*PNOrbitalEvolutionOrder+1).removeO()\n",
    "\n",
    "# TaylorT4\n",
    "T4Expressions = PNCollection()\n",
    "NumTerms4 = {'Num{0}'.format(n): FluxSeries.coeff(v,n=n) for n in range(2*PNOrbitalEvolutionOrder+1)}\n",
    "DenTerms4 = {'Den{0}'.format(n): dEdVSeries.coeff(v,n=n) for n in range(2*PNOrbitalEvolutionOrder+1)}\n",
    "T4Expressions.AddDerivedConstant('dvdt_T4', (Fcal_coeff/(-nu*v/2))*\\\n",
    "    horner(sum([v**n*horner(N(p_Ratio.coeff(v,n=n).subs(dict(NumTerms4.items() | DenTerms4.items()))))\n",
    "                for n in range(2*PNOrbitalEvolutionOrder+1)])))\n",
    "\n",
    "# TaylorT5\n",
    "T5Expressions = PNCollection()\n",
    "NumTerms5 = {'Num{0}'.format(n): dEdVSeries.coeff(v,n=n) for n in range(2*PNOrbitalEvolutionOrder+1)}\n",
    "DenTerms5 = {'Den{0}'.format(n): FluxSeries.coeff(v,n=n) for n in range(2*PNOrbitalEvolutionOrder+1)}\n",
    "T5Expressions.AddDerivedConstant('dtdv', ((-nu*v/2)/Fcal_coeff)*\\\n",
    "    horner(sum([v**n*horner(N(p_Ratio.coeff(v,n=n).subs(dict(NumTerms5.items() | DenTerms5.items()))))\n",
    "                for n in range(2*PNOrbitalEvolutionOrder+1)])))\n",
    "T5Expressions.AddDerivedConstant('dvdt_T5', 1.0/dtdv)\n",
    "\n",
    "# TaylorT1 just gets some substitutions for efficiency\n",
    "T1Expressions = PNCollection()\n",
    "T1Expressions.AddDerivedConstant('Flux', Flux.subs(Pow(nu,3), nu__3).subs(Pow(nu,2), nu__2))\n",
    "T1Expressions.AddDerivedConstant('dEdV', dEdV.subs(Pow(nu,3), nu__3).subs(Pow(nu,2), nu__2))\n",
    "T1Expressions.AddDerivedConstant('Absorption', Absorption.subs(Pow(nu,3), nu__3).subs(Pow(nu,2), nu__2))\n",
    "T1Expressions.AddDerivedConstant('dvdt_T1', - (Flux + Absorption) / dEdV)"
   ]
  },
  {
   "cell_type": "markdown",
   "metadata": {},
   "source": [
    "Now, the precession terms:"
   ]
  },
  {
   "cell_type": "code",
   "execution_count": 5,
   "metadata": {},
   "outputs": [],
   "source": [
    "PrecessionVelocities = PNCollection()\n",
    "\n",
    "PrecessionVelocities.AddDerivedVariable('OmegaVec_chiVec_1',\n",
    "                                        Precession_chiVec1Expression(PNOrbitalEvolutionOrder),\n",
    "                                        datatype=ellHat.datatype)\n",
    "PrecessionVelocities.AddDerivedVariable('OmegaVec_chiVec_2',\n",
    "                                        Precession_chiVec2Expression(PNOrbitalEvolutionOrder),\n",
    "                                        datatype=ellHat.datatype)\n",
    "PrecessionVelocities.AddDerivedVariable(('OmegaVec' if UseQuaternions else 'OmegaVec_ellHat'),\n",
    "                                        Precession_ellHatExpression(PNOrbitalEvolutionOrder)*nHat\n",
    "                                        + (sqrt(1-Ecc**2.0)/(1-Ecc*cos(xi))**2.0*(v**3/M)*ellHat if UseQuaternions else 0),\n",
    "                                        datatype=nHat.datatype)"
   ]
  },
  {
   "cell_type": "code",
   "execution_count": 6,
   "metadata": {},
   "outputs": [],
   "source": [
    "CodeConstructor = CodeOutput.CodeConstructor(PNVariables, T1Expressions)\n",
    "for Terms in BindingEnergyTerms+FluxTerms+[AlviTerms]+[Precession_ellHat, Precession_chiVec1, Precession_chiVec2]:\n",
    "    CodeConstructor.AddDependencies(Terms)\n",
    "CodeConstructor.AddDependencies(PrecessionVelocities)"
   ]
  },
  {
   "cell_type": "markdown",
   "metadata": {},
   "source": [
    "# TaylorT2 and TaylorT3"
   ]
  },
  {
   "cell_type": "markdown",
   "metadata": {},
   "source": [
    "These two approximants are also closely related to each other.  I believe they are only possible for nonprecessing systems, without further assumptions about the constancy of certain projections of the spins.  I choose not to make those assumptions."
   ]
  },
  {
   "cell_type": "code",
   "execution_count": null,
   "metadata": {},
   "outputs": [],
   "source": []
  },
  {
   "cell_type": "markdown",
   "metadata": {},
   "source": [
    "# TaylorF2"
   ]
  },
  {
   "cell_type": "markdown",
   "metadata": {},
   "source": [
    "Being based on the `TaylorT2` approximant, I think this approximant is only possible for nonprecessing systems without further assumptions."
   ]
  },
  {
   "cell_type": "code",
   "execution_count": null,
   "metadata": {},
   "outputs": [],
   "source": []
  }
 ],
 "metadata": {
  "kernelspec": {
   "display_name": "Python 3 (ipykernel)",
   "language": "python",
   "name": "python3"
  },
  "language_info": {
   "codemirror_mode": {
    "name": "ipython",
    "version": 3
   },
   "file_extension": ".py",
   "mimetype": "text/x-python",
   "name": "python",
   "nbconvert_exporter": "python",
   "pygments_lexer": "ipython3",
   "version": "3.9.13"
  }
 },
 "nbformat": 4,
 "nbformat_minor": 1
}
