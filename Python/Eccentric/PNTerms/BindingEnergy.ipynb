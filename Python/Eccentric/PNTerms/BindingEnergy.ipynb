{
 "cells": [
  {
   "cell_type": "code",
   "execution_count": 1,
   "metadata": {
    "jupyter": {
     "outputs_hidden": false
    }
   },
   "outputs": [
    {
     "name": "stderr",
     "output_type": "stream",
     "text": [
      "/home/dzsun/miniconda3/lib/python3.9/site-packages/IPython/nbformat.py:12: ShimWarning: The `IPython.nbformat` package has been deprecated since IPython 4.0. You should import from nbformat instead.\n",
      "  warn(\"The `IPython.nbformat` package has been deprecated since IPython 4.0. \"\n"
     ]
    }
   ],
   "source": [
    "# Always run this first\n",
    "# NOTE: Do not define new basic variables in this notebook;\n",
    "#       define them in Variables_Q.ipynb.  Use this notebook\n",
    "#       to define new expressions built from those variables.\n",
    "\n",
    "from __future__ import division # This needs to be here, even though it's in Variables_Q.ipynb\n",
    "import sys\n",
    "sys.path.insert(0, '..') # Look for modules in directory above this one\n",
    "execfile('../Utilities/ExecNotebook.ipy')\n",
    "try: execnotebook(VariablesNotebook)\n",
    "except: execnotebook('Variables_Q.ipynb')"
   ]
  },
  {
   "cell_type": "markdown",
   "metadata": {},
   "source": [
    "The following `PNCollection` objects will contain all the terms in the different parts of the binding energy."
   ]
  },
  {
   "cell_type": "code",
   "execution_count": 2,
   "metadata": {
    "jupyter": {
     "outputs_hidden": false
    }
   },
   "outputs": [],
   "source": [
    "BindingEnergy_NoSpin = PNCollection()\n",
    "BindingEnergy_Spin = PNCollection()\n",
    "BindingEnergy_EccNoSpin = PNCollection()\n",
    "BindingEnergy_NSTides = PNCollection()"
   ]
  },
  {
   "cell_type": "markdown",
   "metadata": {},
   "source": [
    "# Individual energy terms"
   ]
  },
  {
   "cell_type": "markdown",
   "metadata": {},
   "source": [
    "In this notebook, every term will be multiplied by the following coefficient."
   ]
  },
  {
   "cell_type": "code",
   "execution_count": 3,
   "metadata": {
    "jupyter": {
     "outputs_hidden": false
    }
   },
   "outputs": [],
   "source": [
    "BindingEnergy_NoSpin.AddDerivedVariable('E_coeff', -(M*nu*v**2)/2)\n",
    "BindingEnergy_EccNoSpin.AddDerivedVariable('Eecc_coeff', -(M*nu*v**2)/2*e_i**2.0*v_i**(19/3)/v**(19/3))"
   ]
  },
  {
   "cell_type": "markdown",
   "metadata": {},
   "source": [
    "Note that fractions need to be entered as, e.g., `frac(3,4)` so that they are not converted to finite-precision decimals."
   ]
  },
  {
   "cell_type": "markdown",
   "metadata": {},
   "source": [
    "The nonspinning orbital binding energy is known through 4pN.  The expressions through 3.5pN here come from Eq. (194) of [Blanchet (2006)](http://www.livingreviews.org/lrr-2006-4).\n",
    "\n",
    "The 4pN term from Eq. (5.2d) of [Jaranowski and Schäfer](http://arxiv.org/abs/1303.3225v1) is known exactly, now that the $\\nu$-linear piece is given as Eq. (32) of [Bini and Damour (2013a)](http://arxiv.org/abs/1305.4884v1).  The remaining terms are not known exactly, but [Bini and Damour (2103b)](http://arxiv.org/abs/1312.2503v1) have derived some terms, though there is incomplete information, which are noted as the constants in the following cell.  Note that, though the notation is confusing, Bini and Damour claim they did not calculate the coefficient they call $a_6^{\\text{ln 1}}$; but it seems to be given in their Eq. (64)."
   ]
  },
  {
   "cell_type": "code",
   "execution_count": 4,
   "metadata": {
    "jupyter": {
     "outputs_hidden": false
    }
   },
   "outputs": [],
   "source": [
    "# Equation numbers below refer to v1 of Bini and Damour (2013b)\n",
    "a_6__c1 = 0 # not yet known\n",
    "a_6__ln1 = -frac(144,5) # coefficient of nu in Eq. (64)\n",
    "a_65__c1 = 0 # not yet known\n",
    "a_65__ln1 = 0 # not yet known\n",
    "a_7__c1 = 0 # not yet known\n",
    "a_7__ln1 = 0 # not yet known"
   ]
  },
  {
   "cell_type": "code",
   "execution_count": 5,
   "metadata": {
    "jupyter": {
     "outputs_hidden": false
    }
   },
   "outputs": [],
   "source": [
    "BindingEnergy_NoSpin.AddDerivedConstant('E_0', 1.0)\n",
    "# E_1 is 0\n",
    "BindingEnergy_NoSpin.AddDerivedConstant('E_2', -frac(3,4) - frac(1,12)*nu)\n",
    "# E_3 is 0\n",
    "BindingEnergy_NoSpin.AddDerivedConstant('E_4', -frac(27,8) + frac(19,8)*nu - frac(1,24)*nu**2)\n",
    "# E_5 is 0\n",
    "BindingEnergy_NoSpin.AddDerivedConstant('E_6', -frac(675,64) + (frac(34445,576) - frac(205,96)*pi**2)*nu - frac(155,96)*nu**2\n",
    "    - frac(35,5184)*nu**3)\n",
    "# E_7 is 0\n",
    "BindingEnergy_NoSpin.AddDerivedConstant('E_8',\n",
    "    -frac(3969,128) + (-frac(123671,5760)+frac(9037,1536)*pi**2+frac(1792,15)*ln(2)+frac(896,15)*EulerGamma)*nu\n",
    "    + (-frac(498449,3456) + frac(3157,576)*pi**2)*nu**2 + frac(301,1728)*nu**3 + frac(77,31104)*nu**4)\n",
    "BindingEnergy_NoSpin.AddDerivedConstant('E_lnv_8', frac(896,15)*nu)\n",
    "# E_9 is 0\n",
    "\n",
    "# Below are the incomplete terms\n",
    "BindingEnergy_NoSpin.AddDerivedConstant('E_10', -frac(45927,512)\n",
    "    + (-frac(228916843,115200) - frac(9976,35)*EulerGamma + frac(729,7)*ln(3)\n",
    "       - frac(23672,35)*ln(2) + frac(126779,512)*pi**2)*nu\n",
    "    + (-frac(21337,1024)*pi**2 + 3*a_6__c1 - frac(896,5)*ln(2)\n",
    "       - frac(448,5)*EulerGamma + frac(189745,576) + frac(2,3)*a_6__ln1)*nu**2\n",
    "    + (-frac(1353,256)*pi**2 + frac(69423,512))*nu**3\n",
    "    + frac(55,512)*nu**4\n",
    "    + frac(1,512)*nu**5)\n",
    "BindingEnergy_NoSpin.AddDerivedConstant('E_lnv_10', -frac(9976,35)*nu + (- frac(448,5) + 6*a_6__ln1)*nu**2)\n",
    "BindingEnergy_NoSpin.AddDerivedConstant('E_11', frac(10,3)*nu * (frac(13696,525)*pi + nu*a_65__c1))\n",
    "BindingEnergy_NoSpin.AddDerivedConstant('E_12',\n",
    "    - frac(264627,1024)+frac(2717,6718464)*nu**6+frac(5159,248832)*nu**5\n",
    "    + (frac(272855,124416)*pi**2-frac(20543435,373248))*nu**4\n",
    "    + (frac(1232,27)*EulerGamma+frac(6634243,110592)*pi**2-frac(11,2)*a_6__c1\n",
    "       -frac(75018547,51840)+frac(2464,27)*ln(2) -frac(20,9)*a_6__ln1)*nu**3\n",
    "    + (frac(113594718743,14515200)+frac(18491,2304)*pi**4\n",
    "       +frac(246004,105)*ln(2)+frac(112772,105)*EulerGamma+frac(11,2)*a_6__c1+a_6__ln1+frac(2,3)*a_7__ln1\n",
    "       + frac(11,3)*a_7__c1-frac(86017789,110592)*pi**2-frac(2673,14)*ln(3))*nu**2\n",
    "    + (- frac(389727504721,43545600)+frac(74888,243)*ln(2) - frac(7128,7)*ln(3)-frac(30809603,786432)*pi**4\n",
    "       -frac(3934568,8505)*EulerGamma +frac(9118627045,5308416)*pi**2)*nu )\n",
    "BindingEnergy_NoSpin.AddDerivedConstant('E_lnv_12',\n",
    "    frac(22,3)*a_7__ln1 - 2*frac(1967284,8505)*nu + 2*(frac(56386,105)+frac(11,2)*a_6__ln1)*nu**2\n",
    "    + 2*(frac(616,27)-frac(11,2)*a_6__ln1)*nu**3)\n",
    "BindingEnergy_EccNoSpin.AddDerivedConstant('Eecc_2',-2.0)"
   ]
  },
  {
   "cell_type": "markdown",
   "metadata": {},
   "source": [
    "***(Is the following true?  What about [this paper](http://arxiv.org/abs/1302.6723v2)?)***\n",
    "The spin-squared terms (by which I mean both spin-spin and spin-orbit squared terms) in the energy are known only at 2pN order (from [Kidder (1995)](http://link.aps.org/doi/10.1103/PhysRevD.52.821) and [Will and Wiseman (1996)](http://link.aps.org/doi/10.1103/PhysRevD.54.4813)).  They are most conveniently given in Eq. (C4) of [Arun et al.](http://arxiv.org/abs/0810.5336v3)"
   ]
  },
  {
   "cell_type": "code",
   "execution_count": 6,
   "metadata": {
    "jupyter": {
     "outputs_hidden": false
    }
   },
   "outputs": [],
   "source": [
    "# Lower-order terms are 0\n",
    "BindingEnergy_Spin.AddDerivedVariable('E_SQ_4',\n",
    "    (1+delta-2*nu)*(chi1chi1+chi2chi2)/4 - 3*(chi_a_ell**2+chi_s_ell**2)/2\n",
    "    - delta*( chi2chi2/2 + 3*chi_a_ell*chi_s_ell ) + nu*( chi1chi2 + 6*chi_a_ell**2 ))"
   ]
  },
  {
   "cell_type": "markdown",
   "metadata": {},
   "source": [
    "The spin-orbit terms in the energy are now complete to 4.0pN (the last term is zero).  These terms come from Eq. (4.6) of [Bohé et al. (2012)](http://arxiv.org/abs/1212.5520v2):"
   ]
  },
  {
   "cell_type": "code",
   "execution_count": 7,
   "metadata": {
    "jupyter": {
     "outputs_hidden": false
    }
   },
   "outputs": [],
   "source": [
    "# Lower-order terms are 0\n",
    "BindingEnergy_Spin.AddDerivedVariable('E_SO_3', (frac(14,3)*S_ell + 2*delta*Sigma_ell)/M**2)\n",
    "# E_SO_4 is 0\n",
    "BindingEnergy_Spin.AddDerivedVariable('E_SO_5', ((11-61*nu/9)*S_ell + (3-10*nu/3)*delta*Sigma_ell)/M**2)\n",
    "# E_SO_6 is 0\n",
    "BindingEnergy_Spin.AddDerivedVariable('E_SO_7',\n",
    "    ((frac(135,4)-frac(367,4)*nu+frac(29,12)*nu**2)*S_ell + (frac(27,4)-39*nu+frac(5,4)*nu**2)*delta*Sigma_ell)/M**2)\n",
    "# E_SO_8 is 0"
   ]
  },
  {
   "cell_type": "markdown",
   "metadata": {},
   "source": [
    "The tidal-coupling terms come in to the energy at relative 5pN order, and are known to 6pN order.\n",
    "\n",
    "These terms come from Eq. (2.11) of [Vines et al. (2011)](http://prd.aps.org/abstract/PRD/v83/i8/e084051).  Note their unusual convention for mass ratios, where $\\chi_1 = m_1/m$ in their notation; in particular, $\\chi$ is not a spin parameter.  Also note that $\\hat{\\lambda} = \\lambda_2 v^{10}/(m_1+m_2)^5$, and we need to add the coupling terms again with $1 \\leftrightarrow 2$.  Finally, note the normalization difference, where the overall factor is different by $-2$."
   ]
  },
  {
   "cell_type": "code",
   "execution_count": 8,
   "metadata": {
    "jupyter": {
     "outputs_hidden": false
    }
   },
   "outputs": [],
   "source": [
    "BindingEnergy_NSTides = PNCollection()\n",
    "# Lower-order terms are 0\n",
    "BindingEnergy_NSTides.AddDerivedConstant('E_NSTides_10', (-9*(M1/M2)*lambda2 - 9*(M2/M1)*lambda1)/M**5)\n",
    "# E_NSTidal_11 is 0\n",
    "BindingEnergy_NSTides.AddDerivedConstant('E_NSTides_12',\n",
    "    (-frac(11,2)*(M1/M2)*(3+2*M2/M+3*(M2/M)**2)*lambda2 - frac(11,2)*(M2/M1)*(3+2*M1/M+3*(M1/M)**2)*lambda1)/M**5)"
   ]
  },
  {
   "cell_type": "markdown",
   "metadata": {},
   "source": [
    "# Collected energy terms"
   ]
  },
  {
   "cell_type": "code",
   "execution_count": 9,
   "metadata": {
    "jupyter": {
     "outputs_hidden": false
    }
   },
   "outputs": [],
   "source": [
    "def BindingEnergyExpression(BindingEnergyTerms=[BindingEnergy_NoSpin, BindingEnergy_Spin, BindingEnergy_EccNoSpin], PNOrder=frac(7,2)):\n",
    "    # We have to play some tricks with the log terms so that `horner` works\n",
    "    def logterm(key,val):\n",
    "        if 'lnv' in val:\n",
    "            return logv\n",
    "        else:\n",
    "            return 1\n",
    "    result = E_coeff*horner(sum([key*(v**n)*logterm(key,val)\n",
    "                               for Terms in BindingEnergyTerms[0:2]\n",
    "                               for n in range(2*PNOrder+1)\n",
    "                               for key,val in Terms.items()\n",
    "                               if val.endswith('_{0}'.format(n))])).subs(logv, ln(v))\n",
    "    if len(BindingEnergyTerms)==3:\n",
    "        return result+Eecc_coeff*horner(sum([key*(v**n)*logterm(key,val)\n",
    "                               for Terms in [BindingEnergyTerms[-1]]\n",
    "                               for n in range(2*PNOrder+1)\n",
    "                               for key,val in Terms.items()\n",
    "                               if val.endswith('_{0}'.format(n))])).subs(logv, ln(v))\n",
    "    elif len(BindingEnergyTerms)==2:\n",
    "        return result\n",
    "    else:\n",
    "        return Eecc_coeff*horner(sum([key*(v**n)*logterm(key,val)\n",
    "                               for Terms in [BindingEnergyTerms[-1]]\n",
    "                               for n in range(2*PNOrder+1)\n",
    "                               for key,val in Terms.items()\n",
    "                               if val.endswith('_{0}'.format(n))])).subs(logv, ln(v))\n",
    "\n",
    "def BindingEnergyDerivativeExpression(BindingEnergyTerms=[BindingEnergy_NoSpin, BindingEnergy_Spin, BindingEnergy_EccNoSpin], PNOrder=frac(7,2)):\n",
    "    Energy = BindingEnergyExpression(BindingEnergyTerms[0:2], PNOrder)\n",
    "    result = horner(diff(Energy.subs(E_coeff, E_coeff.substitution), v)\n",
    "                  .simplify().subs(log(v),logv)).simplify().subs(logv, ln(v))\n",
    "    Energy = BindingEnergyExpression([BindingEnergyTerms[-1]], PNOrder)\n",
    "    return result+horner(diff(Energy.subs(Eecc_coeff, Eecc_coeff.substitution), v)\n",
    "                  .simplify().subs(log(v),logv)).simplify().subs(logv, ln(v))"
   ]
  },
  {
   "cell_type": "code",
   "execution_count": 10,
   "metadata": {
    "jupyter": {
     "outputs_hidden": false
    }
   },
   "outputs": [
    {
     "data": {
      "image/png": "[encoded data removed]",
      "text/latex": [
       "$\\displaystyle E_{coeff} \\left(E_{0} + v^{2} \\left(E_{2} + v \\left(E_{SO 3} + v \\left(E_{4} + E_{SQ 4} + v \\left(E_{SO 5} + v \\left(E_{6} + v \\left(E_{SO 7} + v \\left(E_{8} + E_{lnv 8} \\log{\\left(v \\right)}\\right)\\right)\\right)\\right)\\right)\\right)\\right)\\right) + Eecc_{2} Eecc_{coeff} v^{2}$"
      ],
      "text/plain": [
       "        ⎛      2                                                                                                ⎞     \n",
       "E_coeff⋅⎝E₀ + v ⋅(E₂ + v⋅(E_SO_3 + v⋅(E₄ + E_SQ_4 + v⋅(E_SO_5 + v⋅(E₆ + v⋅(E_SO_7 + v⋅(E₈ + Eₗₙᵥ ₈⋅log(v))))))))⎠ + Ee\n",
       "\n",
       "                2\n",
       "cc₂⋅Eecc_coeff⋅v "
      ]
     },
     "metadata": {},
     "output_type": "display_data"
    },
    {
     "data": {
      "image/png": "[encoded data removed]",
      "text/latex": [
       "$\\displaystyle \\frac{1.16666666666667 Eecc_{2} M e_{i}^{2.0} \\nu v_{i}^{6.33333333333333}}{v^{3.33333333333333}} - \\frac{M \\nu v \\left(2 E_{0} + v^{2} \\cdot \\left(4 E_{2} + v \\left(5 E_{SO 3} + v \\left(6 E_{4} + 6 E_{SQ 4} + v \\left(7 E_{SO 5} + v \\left(8 E_{6} + v \\left(9 E_{SO 7} + v \\left(10 E_{8} + E_{lnv 8} \\cdot \\left(10 \\log{\\left(v \\right)} + 1\\right)\\right)\\right)\\right)\\right)\\right)\\right)\\right)\\right)}{2}$"
      ],
      "text/plain": [
       "                                                                               ⎛        2                             \n",
       "                           2.0    -3.33333333333333   6.33333333333333   M⋅ν⋅v⋅⎝2⋅E₀ + v ⋅(4⋅E₂ + v⋅(5⋅E_SO_3 + v⋅(6⋅E\n",
       "1.16666666666667⋅Eecc₂⋅M⋅eᵢ   ⋅ν⋅v                 ⋅vᵢ                 - ─────────────────────────────────────────────\n",
       "                                                                                                                      \n",
       "\n",
       "                                                                                             ⎞\n",
       "₄ + 6⋅E_SQ_4 + v⋅(7⋅E_SO_5 + v⋅(8⋅E₆ + v⋅(9⋅E_SO_7 + v⋅(10⋅E₈ + Eₗₙᵥ ₈⋅(10⋅log(v) + 1))))))))⎠\n",
       "──────────────────────────────────────────────────────────────────────────────────────────────\n",
       "                        2                                                                     "
      ]
     },
     "metadata": {},
     "output_type": "display_data"
    },
    {
     "data": {
      "image/png": "[encoded data removed]",
      "text/latex": [
       "$\\displaystyle - \\frac{Eecc_{2} M e_{i}^{2.0} \\nu v_{i}^{6.33333333333333}}{2 v^{2.33333333333333}}$"
      ],
      "text/plain": [
       "           2.0    -2.33333333333333   6.33333333333333 \n",
       "-Eecc₂⋅M⋅eᵢ   ⋅ν⋅v                 ⋅vᵢ                 \n",
       "───────────────────────────────────────────────────────\n",
       "                           2                           "
      ]
     },
     "metadata": {},
     "output_type": "display_data"
    }
   ],
   "source": [
    "#display(BindingEnergyExpression(PNOrder=frac(8,2)))\n",
    "#display(BindingEnergyDerivativeExpression(PNOrder=frac(8,2)))"
   ]
  },
  {
   "cell_type": "code",
   "execution_count": null,
   "metadata": {},
   "outputs": [],
   "source": []
  }
 ],
 "metadata": {
  "kernelspec": {
   "display_name": "Python 3 (ipykernel)",
   "language": "python",
   "name": "python3"
  },
  "language_info": {
   "codemirror_mode": {
    "name": "ipython",
    "version": 3
   },
   "file_extension": ".py",
   "mimetype": "text/x-python",
   "name": "python",
   "nbconvert_exporter": "python",
   "pygments_lexer": "ipython3",
   "version": "3.9.13"
  }
 },
 "nbformat": 4,
 "nbformat_minor": 4
}
